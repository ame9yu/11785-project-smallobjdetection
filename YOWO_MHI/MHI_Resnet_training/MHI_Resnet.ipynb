{
  "nbformat": 4,
  "nbformat_minor": 0,
  "metadata": {
    "colab": {
      "name": "MHI Resnet.ipynb",
      "provenance": [],
      "collapsed_sections": [],
      "machine_shape": "hm"
    },
    "kernelspec": {
      "name": "python3",
      "display_name": "Python 3"
    },
    "language_info": {
      "name": "python"
    },
    "accelerator": "GPU"
  },
  "cells": [
    {
      "cell_type": "markdown",
      "metadata": {
        "id": "aF11qlb0BKsu"
      },
      "source": [
        "MHI"
      ]
    },
    {
      "cell_type": "code",
      "metadata": {
        "id": "JCIKdyalbiRN"
      },
      "source": [
        "import os\n",
        "import cv2\n",
        "import numpy as np\n",
        "from sklearn.neighbors import KNeighborsClassifier\n",
        "from sklearn.ensemble import RandomForestClassifier\n",
        "from sklearn.model_selection import train_test_split\n",
        "import matplotlib.pyplot as plt\n",
        "from sklearn.metrics import plot_confusion_matrix"
      ],
      "execution_count": null,
      "outputs": []
    },
    {
      "cell_type": "code",
      "metadata": {
        "id": "UXlhLHi1buAz"
      },
      "source": [
        "def background_subtraction(video, test=False):\n",
        "  \"\"\"\n",
        "  images: a sequence of image in a video\n",
        "  return: a sequence of image foreground\n",
        "  \t\t  boolean, means the video is completed or not\t\n",
        "  \"\"\"\n",
        "  foregrounds = []\n",
        "  threshold = 30\n",
        "  kernel = np.ones((3,3),np.uint8)\n",
        "  vidcap = cv2.VideoCapture(video)\n",
        "  last_image = None # estimated background\n",
        "  while vidcap.isOpened():\n",
        "    success, image = vidcap.read()\n",
        "    if success:\n",
        "      image = cv2.cvtColor(image, cv2.COLOR_BGR2GRAY).astype(np.float32)\n",
        "      if last_image is None:\n",
        "        last_image = image\n",
        "        continue\n",
        "      foreground = np.abs(image - last_image)\n",
        "      foreground[foreground <= threshold] = 0.0\n",
        "      foreground[foreground > threshold] = 1.0\n",
        "      clean_foreground = cv2.morphologyEx(foreground, cv2.MORPH_OPEN, kernel)\n",
        "      foregrounds.append(clean_foreground)\n",
        "      last_image = image\n",
        "    else:\n",
        "      break\n",
        "  vidcap.release()\n",
        "  return foregrounds\n",
        "\n",
        "def build_mhi(foregrounds):\n",
        "  mhis = []\n",
        "  init_val = 30\n",
        "  mhi_0 = np.zeros(foregrounds[0].shape)\n",
        "  mhi_0[foregrounds[0] == 1] = init_val\n",
        "  mhis.append(mhi_0)\n",
        "  for i in range(1, len(foregrounds)):\n",
        "    mhi_i = np.zeros(foregrounds[0].shape)\n",
        "    mhi_i[foregrounds[i] == 1] = init_val\n",
        "    mhi_i[foregrounds[i] == 0] = mhis[i-1][foregrounds[i] == 0] - 1\n",
        "    mhi_i[mhi_i < 0] = 0\n",
        "    mhis.append(mhi_i)\n",
        "  return mhis[-1]\n",
        "\n",
        "def calcu_humoment(mhi):\n",
        "\tpqs = [(1,1),(2,0),(0,2),(2,1),(1,2),(3,0),(0,3),(2,2)]\n",
        "\thumoment = []\n",
        "\tM00 = np.sum(mhi) + 1 # avoid zero division\n",
        "\tM10 = np.sum(np.array(range(mhi.shape[0])).reshape(-1,1) * mhi)\n",
        "\tM01 = np.sum(np.array(range(mhi.shape[1])) * mhi)\n",
        "\tx_avg = M10 / M00\n",
        "\ty_avg = M01 / M00\n",
        "\tmu = []\n",
        "\tv = []\n",
        "\tfor pq in pqs:\n",
        "\t  p, q = pq\n",
        "\t  x = np.power((np.array(range(mhi.shape[0])).reshape(-1,1) - x_avg), p)\n",
        "\t  y = np.power((np.array(range(mhi.shape[1])) - y_avg), q)\n",
        "\t  mu_pq = np.sum(x*(y*mhi))\n",
        "\t  v_pq = mu_pq / np.power(M00, (1+(p+q)/2))\n",
        "\t  mu.append(mu_pq)\n",
        "\t  v.append(v_pq)\n",
        "\thumoment = list(np.concatenate((v,mu)))\n",
        "\treturn humoment\n"
      ],
      "execution_count": null,
      "outputs": []
    },
    {
      "cell_type": "code",
      "metadata": {
        "colab": {
          "base_uri": "https://localhost:8080/",
          "height": 302
        },
        "id": "IlOq2EaY8GfV",
        "outputId": "85872950-752a-4e5b-bb53-d7e315b460dc"
      },
      "source": [
        "foregrounds = background_subtraction(\"/content/ReCompress_Videos/brush_hair/April_09_brush_hair_u_nm_np1_ba_goo_0.avi\")\n",
        "mhi = build_mhi(foregrounds)\n",
        "plt.imshow(mhi)\n",
        "print(np.max(foregrounds),np.max(mhi))"
      ],
      "execution_count": null,
      "outputs": [
        {
          "output_type": "stream",
          "text": [
            "1.0 29.0\n"
          ],
          "name": "stdout"
        },
        {
          "output_type": "display_data",
          "data": {
            "image/png": "[encoded data removed]",
            "text/plain": [
              "<Figure size 432x288 with 1 Axes>"
            ]
          },
          "metadata": {
            "tags": []
          }
        }
      ]
    },
    {
      "cell_type": "code",
      "metadata": {
        "id": "9UAVYDralw-q"
      },
      "source": [
        "import glob, os\n",
        "\n",
        "for root, dirs, files in os.walk('/content/ReCompress_Videos'):\n",
        "    i = 0\n",
        "    for file in files:\n",
        "        if file.endswith('.DS_Store'):\n",
        "            path = os.path.join(root, file)\n",
        "\n",
        "            print(path)\n",
        "\n",
        "            if os.remove(path):\n",
        "                print(\"Unable to delete!\")\n",
        "            else:\n",
        "                print(\"Deleted...\")\n",
        "                i += 1\n",
        "\n"
      ],
      "execution_count": null,
      "outputs": []
    },
    {
      "cell_type": "code",
      "metadata": {
        "id": "wxR3FBgmcarx"
      },
      "source": [
        "!mkdir /content/JHMDB_MHI\n",
        "all_actions = os.listdir('/content/ReCompress_Videos/')\n",
        "for action in all_actions:\n",
        "    path = '/content/ReCompress_Videos/' + action + '/'\n",
        "    all_action_videos = os.listdir(path)\n",
        "    path_to_create = '/content/JHMDB_MHI/' + action  + '/'\n",
        "    os.mkdir(path_to_create)\n",
        "    for video in all_action_videos:\n",
        "        \n",
        "        video_path = '/content/ReCompress_Videos/' + action + '/' + video\n",
        "        foregrounds = background_subtraction(video_path)\n",
        "        mhi = build_mhi(foregrounds)\n",
        "        cv2.imwrite('/content/JHMDB_MHI/'+action+'/'+video[:-4]+'.jpg', mhi * 8)\n",
        "\n"
      ],
      "execution_count": null,
      "outputs": []
    },
    {
      "cell_type": "markdown",
      "metadata": {
        "id": "uBmi_LDNBOv9"
      },
      "source": [
        "Resnet"
      ]
    },
    {
      "cell_type": "code",
      "metadata": {
        "colab": {
          "base_uri": "https://localhost:8080/"
        },
        "id": "hEAPoHvnoGaB",
        "outputId": "2ac49c81-493c-40c7-e219-d3f70f4693cf"
      },
      "source": [
        "# Import necessary libraries\n",
        "import os\n",
        "import sys\n",
        "import numpy as np\n",
        "import pandas as pd\n",
        "from PIL import Image\n",
        "\n",
        "import torch\n",
        "import torchvision   \n",
        "import torch.nn as nn\n",
        "import torch.nn.functional as F\n",
        "from torch.utils.data import DataLoader, Dataset\n",
        "import torch.optim as optim\n",
        "from sklearn.metrics import accuracy_score\n",
        "import random\n",
        "from torch.utils import data\n",
        "from tqdm import tqdm\n",
        "\n",
        "import matplotlib.pyplot as plt\n",
        "import time\n",
        "\n",
        "# random seed\n",
        "np.random.seed(11785)\n",
        "torch.manual_seed(11785)\n",
        "\n",
        "cuda = torch.cuda.is_available()\n",
        "device = torch.device(\"cuda\" if cuda else \"cpu\")\n",
        "sys.version\n",
        "print(cuda, sys.version)"
      ],
      "execution_count": null,
      "outputs": [
        {
          "output_type": "stream",
          "text": [
            "True 3.7.10 (default, May  3 2021, 02:48:31) \n",
            "[GCC 7.5.0]\n"
          ],
          "name": "stdout"
        }
      ]
    },
    {
      "cell_type": "code",
      "metadata": {
        "colab": {
          "base_uri": "https://localhost:8080/"
        },
        "id": "cZbh28GHoLsc",
        "outputId": "2627718d-f04a-4df6-f462-d956039b6e8f"
      },
      "source": [
        "# Check if cuda is available\n",
        "cuda = torch.cuda.is_available()\n",
        "num_workers = 8 if cuda else 0\n",
        "print(\"Cuda = \"+str(cuda)+\" with num_workers = \"+str(num_workers))"
      ],
      "execution_count": null,
      "outputs": [
        {
          "output_type": "stream",
          "text": [
            "Cuda = True with num_workers = 8\n"
          ],
          "name": "stdout"
        }
      ]
    },
    {
      "cell_type": "code",
      "metadata": {
        "id": "B27vXg2F658m"
      },
      "source": [
        "import re\n",
        "from numpy import loadtxt\n",
        "train_list = np.genfromtxt(\"/content/gdrive/MyDrive/competitions/Project/YOWO/datasets/jhmdb/trainlist.txt\",dtype='str')\n",
        "train_list = [re.sub(r'/\\d+.txt','.jpg',line) for line in train_list]\n",
        "test_list = np.genfromtxt(\"/content/gdrive/MyDrive/competitions/Project/YOWO/datasets/jhmdb/testlist.txt\",dtype='str')\n",
        "test_list = [re.sub(r'/\\d+.txt','.jpg',line) for line in test_list]"
      ],
      "execution_count": null,
      "outputs": []
    },
    {
      "cell_type": "code",
      "metadata": {
        "colab": {
          "base_uri": "https://localhost:8080/"
        },
        "id": "DmTSBsuECIGh",
        "outputId": "373de66b-cf90-42fe-a3dd-49f178c348ad"
      },
      "source": [
        "#remove duplicates\n",
        "train_list = list(set(train_list))\n",
        "test_list = list(set(test_list))\n",
        "print(\"train_list\",len(train_list),\"test_list\",len(test_list))\n",
        "\n",
        "train_label = [line.split('/')[0] for line in train_list]\n",
        "test_label = [line.split('/')[0] for line in test_list]\n",
        "print(\"train_label\",len(train_label),\"test_label\",len(test_label))\n",
        "\n",
        "# /content/JHMDB_stable_MHI\n",
        "train_list = ['/content/JHMDB_stable_MHI/'+line  for line in train_list]\n",
        "test_list = ['/content/JHMDB_stable_MHI/'+line  for line in test_list]"
      ],
      "execution_count": null,
      "outputs": [
        {
          "output_type": "stream",
          "text": [
            "train_list 660 test_list 268\n",
            "train_label 660 test_label 268\n"
          ],
          "name": "stdout"
        }
      ]
    },
    {
      "cell_type": "code",
      "metadata": {
        "id": "0QaeJ3SqM7Ys"
      },
      "source": [
        "label2index_dir = dict((label,count) for count, label in enumerate(list(set(train_label))) )\n",
        "index2label_dir = dict((count,label) for count, label in enumerate(list(set(train_label))) )\n",
        "\n",
        "train_label = [label2index_dir[label] for label in train_label]\n",
        "test_label = [label2index_dir[label] for label in test_label]"
      ],
      "execution_count": null,
      "outputs": []
    },
    {
      "cell_type": "code",
      "metadata": {
        "id": "7The-YkI6eeQ"
      },
      "source": [
        "class ImageDataset(Dataset):\n",
        "    def __init__(self, file_list, target_list):\n",
        "        self.file_list = file_list\n",
        "        self.target_list = target_list\n",
        "        self.n_class = len(list(set(target_list)))\n",
        "\n",
        "    def __len__(self):\n",
        "        return len(self.file_list)\n",
        "\n",
        "    def __getitem__(self, index):\n",
        "        img = Image.open(self.file_list[index])\n",
        "        img = torchvision.transforms.RandomCrop((224,224))(img)\n",
        "        img = torchvision.transforms.RandomHorizontalFlip()(img)\n",
        "        # img = torchvision.transforms.ToTensor()(img)\n",
        "        img = torch.from_numpy(np.array(img).astype('float')).float()\n",
        "        label = self.target_list[index]\n",
        "        \n",
        "        return img, label"
      ],
      "execution_count": null,
      "outputs": []
    },
    {
      "cell_type": "code",
      "metadata": {
        "id": "2AdXPy5bCfnB"
      },
      "source": [
        "train_dataset = ImageDataset(train_list,train_label)\n",
        "test_dataset = ImageDataset(test_list,test_label)\n",
        "train_dataloader = torch.utils.data.DataLoader(train_dataset, batch_size=32, \n",
        "                                               shuffle=True, num_workers=0)\n",
        "dev_dataloader = torch.utils.data.DataLoader(test_dataset, batch_size=32, \n",
        "                                             shuffle=False, num_workers=0)"
      ],
      "execution_count": null,
      "outputs": []
    },
    {
      "cell_type": "code",
      "metadata": {
        "id": "Hlt5zMJcJh86"
      },
      "source": [
        "class SimpleResidualBlock(nn.Module):\n",
        "    def __init__(self, in_channel,out_channel, stride=1):\n",
        "        super().__init__()\n",
        "        self.conv1 = nn.Conv2d(in_channel, out_channel, kernel_size=3, stride=stride, padding=1, bias=True)\n",
        "        self.bn1 = nn.BatchNorm2d(out_channel)\n",
        "        self.relu1 = nn.ReLU()\n",
        "        self.conv2 = nn.Conv2d(out_channel, out_channel, kernel_size=3, stride=1, padding=1, bias=True)\n",
        "\n",
        "        if stride == 1:\n",
        "            self.shortcut = nn.Identity()\n",
        "        else:\n",
        "            self.shortcut = nn.Conv2d(in_channel, out_channel, kernel_size=1, stride=stride)\n",
        "        self.relu = nn.ReLU()\n",
        "\n",
        "    def forward(self, x):\n",
        "        # print(np.shape(x))\n",
        "        out = self.conv1(x)\n",
        "        out = self.bn1(out)\n",
        "        out = self.relu1(out)\n",
        "        out = self.conv2(out)\n",
        "\n",
        "        shortcut = self.shortcut(x)\n",
        "        # print(np.shape(out),np.shape(shortcut))\n",
        "        out = self.relu(out + shortcut)\n",
        "\n",
        "        return out\n"
      ],
      "execution_count": null,
      "outputs": []
    },
    {
      "cell_type": "code",
      "metadata": {
        "id": "MbOS03eiJiHS"
      },
      "source": [
        "# This has hard-coded hidden feature sizes.\n",
        "# You can extend this to take in a list of hidden sizes as argument if you want.\n",
        "class MHI_classification(nn.Module):\n",
        "    def __init__(self, in_features=1, num_classes=21):\n",
        "        super().__init__()\n",
        "\n",
        "        self.layers = nn.Sequential(\n",
        "            nn.Conv2d(in_features, 64, kernel_size=7, stride=2, padding=3, bias=False), # kernal 3 stride 1 & maxpool\n",
        "            nn.BatchNorm2d(64),\n",
        "            nn.ReLU(inplace=True),\n",
        "\n",
        "            nn.MaxPool2d(kernel_size=3, stride=2, padding=1),\n",
        "            torch.nn.Dropout(p=0.2),\n",
        "            SimpleResidualBlock(64,64), # *3\n",
        "            SimpleResidualBlock(64,64),\n",
        "            SimpleResidualBlock(64,64),\n",
        "\n",
        "            SimpleResidualBlock(64,128,stride=2), # *4\n",
        "            SimpleResidualBlock(128,128),\n",
        "            SimpleResidualBlock(128,128),\n",
        "            SimpleResidualBlock(128,128),\n",
        "\n",
        "            SimpleResidualBlock(128,256,stride=2),   # *6\n",
        "            SimpleResidualBlock(256,256),\n",
        "            SimpleResidualBlock(256,256),\n",
        "            SimpleResidualBlock(256,256),\n",
        "            SimpleResidualBlock(256,256),\n",
        "            SimpleResidualBlock(256,256),\n",
        "\n",
        "\n",
        "        )\n",
        "\n",
        "        self.layers_4 = nn.Sequential(\n",
        "            SimpleResidualBlock(256,512,stride=2), # *3\n",
        "            SimpleResidualBlock(512,512),\n",
        "            SimpleResidualBlock(512,512)\n",
        "        )\n",
        "\n",
        "\n",
        "\n",
        "        self.output = nn.Sequential(\n",
        "            nn.AdaptiveAvgPool2d((1, 1)), # For each channel, collapses (averages) the entire feature map (height & width) to 1x1\n",
        "            nn.Flatten(), # the above ends up with batch_size x 64 x 1 x 1, flatten to batch_size x 64\n",
        "            nn.Linear(512,num_classes)\n",
        "        )\n",
        "\n",
        "\n",
        "        for m in self.modules():\n",
        "          if isinstance(m, nn.Conv2d):\n",
        "              m.weight = nn.init.kaiming_normal_(m.weight, mode='fan_out')\n",
        "          elif isinstance(m, nn.BatchNorm2d):\n",
        "              m.weight.data.fill_(1)\n",
        "              m.bias.data.zero_()\n",
        "\n",
        "    def forward(self, x, return_embedding=False):\n",
        "        x = self.layers(x)\n",
        "        embedding = self.layers_4(x)\n",
        "\n",
        "        out = self.output(embedding)\n",
        "        return embedding,out\n",
        "\n"
      ],
      "execution_count": null,
      "outputs": []
    },
    {
      "cell_type": "code",
      "metadata": {
        "id": "FVofhTuWJiJF"
      },
      "source": [
        "in_features = 1 # RGB channels\n",
        "num_classes = train_dataset.n_class\n",
        "device = torch.device('cuda' if torch.cuda.is_available() else 'cpu')\n",
        "network = MHI_classification(1, 21)\n",
        "network = network.to(device)"
      ],
      "execution_count": null,
      "outputs": []
    },
    {
      "cell_type": "code",
      "metadata": {
        "id": "qHqZcvdIJiTf"
      },
      "source": [
        "numEpochs = 120\n",
        "learningRate = 0.01\n",
        "weightDecay = 5e-5\n",
        "criterion = nn.CrossEntropyLoss()\n",
        "optimizer = torch.optim.SGD(network.parameters(), lr=learningRate, weight_decay=weightDecay, momentum=0.9)# Sheduler\n",
        "scheduler = torch.optim.lr_scheduler.ReduceLROnPlateau(optimizer, 'min',patience=5,factor=0.5)"
      ],
      "execution_count": null,
      "outputs": []
    },
    {
      "cell_type": "code",
      "metadata": {
        "colab": {
          "base_uri": "https://localhost:8080/"
        },
        "id": "lqjEA-zkJimW",
        "outputId": "071b7dd6-1113-4523-ec9c-84df99e68a62"
      },
      "source": [
        "%cd /content/gdrive/MyDrive/competitions/Project\n",
        "# Train \n",
        "best_accuracy = -1\n",
        "accuracy_val = []\n",
        "\n",
        "for epoch in range(numEpochs):\n",
        "\n",
        "    # Train\n",
        "    network.train()\n",
        "    avg_loss = 0.0\n",
        "    train_accuracy = 0\n",
        "    num_size = 0\n",
        "    for batch_num, (x, y) in tqdm(enumerate(train_dataloader),position=0, leave=True):\n",
        "        optimizer.zero_grad()\n",
        "\n",
        "        x, y = x.unsqueeze(1).to(device), y.to(device)\n",
        "        embedding,outputs = network(x)\n",
        "\n",
        "        loss = criterion(outputs, y.long())\n",
        "        loss.backward()\n",
        "        optimizer.step()\n",
        "\n",
        "        avg_loss += loss.item()\n",
        "\n",
        "        _,pred_labels = torch.max(F.softmax(outputs, dim=1), 1)\n",
        "        pred_labels = pred_labels.view(-1)\n",
        "        train_accuracy += torch.sum(torch.eq(pred_labels, y)).item()\n",
        "        num_size += len(y)\n",
        "        if batch_num % 10 == 9:\n",
        "          print('Epoch: {}\\tAvg-Loss: {:.4f}\\tAccuract: {:.4f}'.format(epoch+1, avg_loss/100,train_accuracy/num_size))\n",
        "\n",
        "    # Validate\n",
        "    network.eval()\n",
        "    num_correct = 0\n",
        "    avg_loss_val = 0\n",
        "    with torch.no_grad():\n",
        "        for batch_num, (x, y) in tqdm(enumerate(dev_dataloader),position=0, leave=True):\n",
        "            x, y = x.unsqueeze(1).to(device), y.to(device)\n",
        "            embedding,outputs = network(x)\n",
        "\n",
        "            loss = criterion(outputs, y.long())\n",
        "            avg_loss_val += loss.item()\n",
        "\n",
        "            num_correct += (torch.argmax(outputs, axis=1) == y).sum().item()\n",
        "        accuracy = num_correct / len(test_dataset)\n",
        "        accuracy_val.append(accuracy)\n",
        "        avg_loss_validation = avg_loss_val / len(dev_dataloader)\n",
        "\n",
        "        print('Epoch: {}, Validation Accuracy: {:.2f}'.format(epoch, accuracy))\n",
        "        print('Epoch: {}, Validation loss: {:.2f}'.format(epoch, avg_loss_validation))\n",
        "        scheduler.step(avg_loss_validation)\n",
        "        print('Epoch {}, lr {}'.format(\n",
        "              epoch, optimizer.param_groups[0]['lr']))\n",
        "\n",
        "    if accuracy > best_accuracy:\n",
        "      best_accuracy = accuracy\n",
        "      print('val accuracy',accuracy_val)\n",
        "      torch.save(network, 'model_5.pt')\n",
        "\n",
        "\n"
      ],
      "execution_count": null,
      "outputs": [
        {
          "output_type": "stream",
          "text": [
            "1it [00:00,  7.85it/s]"
          ],
          "name": "stderr"
        },
        {
          "output_type": "stream",
          "text": [
            "/content/gdrive/MyDrive/competitions/Project\n"
          ],
          "name": "stdout"
        },
        {
          "output_type": "stream",
          "text": [
            "11it [00:01,  8.26it/s]"
          ],
          "name": "stderr"
        },
        {
          "output_type": "stream",
          "text": [
            "Epoch: 1\tAvg-Loss: 0.0791\tAccuract: 0.7719\n"
          ],
          "name": "stdout"
        },
        {
          "output_type": "stream",
          "text": [
            "21it [00:02,  8.35it/s]\n",
            "0it [00:00, ?it/s]"
          ],
          "name": "stderr"
        },
        {
          "output_type": "stream",
          "text": [
            "Epoch: 1\tAvg-Loss: 0.1577\tAccuract: 0.7719\n"
          ],
          "name": "stdout"
        },
        {
          "output_type": "stream",
          "text": [
            "9it [00:00, 18.05it/s]\n",
            "1it [00:00,  8.46it/s]"
          ],
          "name": "stderr"
        },
        {
          "output_type": "stream",
          "text": [
            "Epoch: 0, Validation Accuracy: 0.24\n",
            "Epoch: 0, Validation loss: 3.07\n",
            "Epoch 0, lr 7.62939453125e-08\n"
          ],
          "name": "stdout"
        },
        {
          "output_type": "stream",
          "text": [
            "11it [00:01,  8.28it/s]"
          ],
          "name": "stderr"
        },
        {
          "output_type": "stream",
          "text": [
            "Epoch: 2\tAvg-Loss: 0.0796\tAccuract: 0.7500\n"
          ],
          "name": "stdout"
        },
        {
          "output_type": "stream",
          "text": [
            "21it [00:02,  8.40it/s]\n",
            "0it [00:00, ?it/s]"
          ],
          "name": "stderr"
        },
        {
          "output_type": "stream",
          "text": [
            "Epoch: 2\tAvg-Loss: 0.1582\tAccuract: 0.7609\n"
          ],
          "name": "stdout"
        },
        {
          "output_type": "stream",
          "text": [
            "9it [00:00, 18.18it/s]\n",
            "1it [00:00,  8.29it/s]"
          ],
          "name": "stderr"
        },
        {
          "output_type": "stream",
          "text": [
            "Epoch: 1, Validation Accuracy: 0.25\n",
            "Epoch: 1, Validation loss: 2.87\n",
            "Epoch 1, lr 7.62939453125e-08\n"
          ],
          "name": "stdout"
        },
        {
          "output_type": "stream",
          "text": [
            "11it [00:01,  8.20it/s]"
          ],
          "name": "stderr"
        },
        {
          "output_type": "stream",
          "text": [
            "Epoch: 3\tAvg-Loss: 0.0772\tAccuract: 0.7625\n"
          ],
          "name": "stdout"
        },
        {
          "output_type": "stream",
          "text": [
            "21it [00:02,  8.34it/s]\n",
            "0it [00:00, ?it/s]"
          ],
          "name": "stderr"
        },
        {
          "output_type": "stream",
          "text": [
            "Epoch: 3\tAvg-Loss: 0.1530\tAccuract: 0.7750\n"
          ],
          "name": "stdout"
        },
        {
          "output_type": "stream",
          "text": [
            "9it [00:00, 18.03it/s]\n",
            "1it [00:00,  8.36it/s]"
          ],
          "name": "stderr"
        },
        {
          "output_type": "stream",
          "text": [
            "Epoch: 2, Validation Accuracy: 0.22\n",
            "Epoch: 2, Validation loss: 3.10\n",
            "Epoch 2, lr 3.814697265625e-08\n"
          ],
          "name": "stdout"
        },
        {
          "output_type": "stream",
          "text": [
            "11it [00:01,  8.23it/s]"
          ],
          "name": "stderr"
        },
        {
          "output_type": "stream",
          "text": [
            "Epoch: 4\tAvg-Loss: 0.0754\tAccuract: 0.7812\n"
          ],
          "name": "stdout"
        },
        {
          "output_type": "stream",
          "text": [
            "21it [00:02,  8.37it/s]\n",
            "0it [00:00, ?it/s]"
          ],
          "name": "stderr"
        },
        {
          "output_type": "stream",
          "text": [
            "Epoch: 4\tAvg-Loss: 0.1581\tAccuract: 0.7703\n"
          ],
          "name": "stdout"
        },
        {
          "output_type": "stream",
          "text": [
            "9it [00:00, 17.85it/s]\n",
            "1it [00:00,  8.27it/s]"
          ],
          "name": "stderr"
        },
        {
          "output_type": "stream",
          "text": [
            "Epoch: 3, Validation Accuracy: 0.21\n",
            "Epoch: 3, Validation loss: 3.09\n",
            "Epoch 3, lr 3.814697265625e-08\n"
          ],
          "name": "stdout"
        },
        {
          "output_type": "stream",
          "text": [
            "11it [00:01,  8.22it/s]"
          ],
          "name": "stderr"
        },
        {
          "output_type": "stream",
          "text": [
            "Epoch: 5\tAvg-Loss: 0.0774\tAccuract: 0.7875\n"
          ],
          "name": "stdout"
        },
        {
          "output_type": "stream",
          "text": [
            "21it [00:02,  8.37it/s]\n",
            "0it [00:00, ?it/s]"
          ],
          "name": "stderr"
        },
        {
          "output_type": "stream",
          "text": [
            "Epoch: 5\tAvg-Loss: 0.1564\tAccuract: 0.7812\n"
          ],
          "name": "stdout"
        },
        {
          "output_type": "stream",
          "text": [
            "9it [00:00, 18.11it/s]\n",
            "1it [00:00,  8.40it/s]"
          ],
          "name": "stderr"
        },
        {
          "output_type": "stream",
          "text": [
            "Epoch: 4, Validation Accuracy: 0.24\n",
            "Epoch: 4, Validation loss: 2.96\n",
            "Epoch 4, lr 3.814697265625e-08\n"
          ],
          "name": "stdout"
        },
        {
          "output_type": "stream",
          "text": [
            "11it [00:01,  8.27it/s]"
          ],
          "name": "stderr"
        },
        {
          "output_type": "stream",
          "text": [
            "Epoch: 6\tAvg-Loss: 0.0749\tAccuract: 0.8000\n"
          ],
          "name": "stdout"
        },
        {
          "output_type": "stream",
          "text": [
            "21it [00:02,  8.39it/s]\n",
            "0it [00:00, ?it/s]"
          ],
          "name": "stderr"
        },
        {
          "output_type": "stream",
          "text": [
            "Epoch: 6\tAvg-Loss: 0.1606\tAccuract: 0.7688\n"
          ],
          "name": "stdout"
        },
        {
          "output_type": "stream",
          "text": [
            "9it [00:00, 18.09it/s]\n",
            "1it [00:00,  8.49it/s]"
          ],
          "name": "stderr"
        },
        {
          "output_type": "stream",
          "text": [
            "Epoch: 5, Validation Accuracy: 0.24\n",
            "Epoch: 5, Validation loss: 3.03\n",
            "Epoch 5, lr 3.814697265625e-08\n"
          ],
          "name": "stdout"
        },
        {
          "output_type": "stream",
          "text": [
            "11it [00:01,  8.20it/s]"
          ],
          "name": "stderr"
        },
        {
          "output_type": "stream",
          "text": [
            "Epoch: 7\tAvg-Loss: 0.0764\tAccuract: 0.7906\n"
          ],
          "name": "stdout"
        },
        {
          "output_type": "stream",
          "text": [
            "21it [00:02,  8.38it/s]\n",
            "0it [00:00, ?it/s]"
          ],
          "name": "stderr"
        },
        {
          "output_type": "stream",
          "text": [
            "Epoch: 7\tAvg-Loss: 0.1560\tAccuract: 0.7719\n"
          ],
          "name": "stdout"
        },
        {
          "output_type": "stream",
          "text": [
            "9it [00:00, 17.97it/s]\n",
            "1it [00:00,  8.41it/s]"
          ],
          "name": "stderr"
        },
        {
          "output_type": "stream",
          "text": [
            "Epoch: 6, Validation Accuracy: 0.24\n",
            "Epoch: 6, Validation loss: 3.00\n",
            "Epoch 6, lr 3.814697265625e-08\n"
          ],
          "name": "stdout"
        },
        {
          "output_type": "stream",
          "text": [
            "11it [00:01,  8.37it/s]"
          ],
          "name": "stderr"
        },
        {
          "output_type": "stream",
          "text": [
            "Epoch: 8\tAvg-Loss: 0.0764\tAccuract: 0.7750\n"
          ],
          "name": "stdout"
        },
        {
          "output_type": "stream",
          "text": [
            "21it [00:02,  8.44it/s]\n",
            "0it [00:00, ?it/s]"
          ],
          "name": "stderr"
        },
        {
          "output_type": "stream",
          "text": [
            "Epoch: 8\tAvg-Loss: 0.1529\tAccuract: 0.7750\n"
          ],
          "name": "stdout"
        },
        {
          "output_type": "stream",
          "text": [
            "9it [00:00, 18.16it/s]\n",
            "1it [00:00,  8.36it/s]"
          ],
          "name": "stderr"
        },
        {
          "output_type": "stream",
          "text": [
            "Epoch: 7, Validation Accuracy: 0.26\n",
            "Epoch: 7, Validation loss: 3.04\n",
            "Epoch 7, lr 3.814697265625e-08\n"
          ],
          "name": "stdout"
        },
        {
          "output_type": "stream",
          "text": [
            "11it [00:01,  8.27it/s]"
          ],
          "name": "stderr"
        },
        {
          "output_type": "stream",
          "text": [
            "Epoch: 9\tAvg-Loss: 0.0824\tAccuract: 0.7312\n"
          ],
          "name": "stdout"
        },
        {
          "output_type": "stream",
          "text": [
            "21it [00:02,  8.35it/s]\n",
            "0it [00:00, ?it/s]"
          ],
          "name": "stderr"
        },
        {
          "output_type": "stream",
          "text": [
            "Epoch: 9\tAvg-Loss: 0.1600\tAccuract: 0.7547\n"
          ],
          "name": "stdout"
        },
        {
          "output_type": "stream",
          "text": [
            "9it [00:00, 18.07it/s]\n",
            "1it [00:00,  8.22it/s]"
          ],
          "name": "stderr"
        },
        {
          "output_type": "stream",
          "text": [
            "Epoch: 8, Validation Accuracy: 0.24\n",
            "Epoch: 8, Validation loss: 2.98\n",
            "Epoch 8, lr 1.9073486328125e-08\n"
          ],
          "name": "stdout"
        },
        {
          "output_type": "stream",
          "text": [
            "11it [00:01,  8.22it/s]"
          ],
          "name": "stderr"
        },
        {
          "output_type": "stream",
          "text": [
            "Epoch: 10\tAvg-Loss: 0.0801\tAccuract: 0.7594\n"
          ],
          "name": "stdout"
        },
        {
          "output_type": "stream",
          "text": [
            "21it [00:02,  8.31it/s]\n",
            "0it [00:00, ?it/s]"
          ],
          "name": "stderr"
        },
        {
          "output_type": "stream",
          "text": [
            "Epoch: 10\tAvg-Loss: 0.1575\tAccuract: 0.7750\n"
          ],
          "name": "stdout"
        },
        {
          "output_type": "stream",
          "text": [
            "9it [00:00, 17.95it/s]\n",
            "1it [00:00,  8.12it/s]"
          ],
          "name": "stderr"
        },
        {
          "output_type": "stream",
          "text": [
            "Epoch: 9, Validation Accuracy: 0.25\n",
            "Epoch: 9, Validation loss: 2.95\n",
            "Epoch 9, lr 1.9073486328125e-08\n"
          ],
          "name": "stdout"
        },
        {
          "output_type": "stream",
          "text": [
            "11it [00:01,  8.26it/s]"
          ],
          "name": "stderr"
        },
        {
          "output_type": "stream",
          "text": [
            "Epoch: 11\tAvg-Loss: 0.0766\tAccuract: 0.7625\n"
          ],
          "name": "stdout"
        },
        {
          "output_type": "stream",
          "text": [
            "21it [00:02,  8.38it/s]\n",
            "0it [00:00, ?it/s]"
          ],
          "name": "stderr"
        },
        {
          "output_type": "stream",
          "text": [
            "Epoch: 11\tAvg-Loss: 0.1598\tAccuract: 0.7594\n"
          ],
          "name": "stdout"
        },
        {
          "output_type": "stream",
          "text": [
            "9it [00:00, 18.21it/s]\n",
            "1it [00:00,  8.08it/s]"
          ],
          "name": "stderr"
        },
        {
          "output_type": "stream",
          "text": [
            "Epoch: 10, Validation Accuracy: 0.25\n",
            "Epoch: 10, Validation loss: 3.01\n",
            "Epoch 10, lr 1.9073486328125e-08\n"
          ],
          "name": "stdout"
        },
        {
          "output_type": "stream",
          "text": [
            "11it [00:01,  8.20it/s]"
          ],
          "name": "stderr"
        },
        {
          "output_type": "stream",
          "text": [
            "Epoch: 12\tAvg-Loss: 0.0834\tAccuract: 0.7500\n"
          ],
          "name": "stdout"
        },
        {
          "output_type": "stream",
          "text": [
            "21it [00:02,  8.33it/s]\n",
            "0it [00:00, ?it/s]"
          ],
          "name": "stderr"
        },
        {
          "output_type": "stream",
          "text": [
            "Epoch: 12\tAvg-Loss: 0.1621\tAccuract: 0.7516\n"
          ],
          "name": "stdout"
        },
        {
          "output_type": "stream",
          "text": [
            "9it [00:00, 18.14it/s]\n",
            "1it [00:00,  8.20it/s]"
          ],
          "name": "stderr"
        },
        {
          "output_type": "stream",
          "text": [
            "Epoch: 11, Validation Accuracy: 0.27\n",
            "Epoch: 11, Validation loss: 3.08\n",
            "Epoch 11, lr 1.9073486328125e-08\n"
          ],
          "name": "stdout"
        },
        {
          "output_type": "stream",
          "text": [
            "11it [00:01,  8.24it/s]"
          ],
          "name": "stderr"
        },
        {
          "output_type": "stream",
          "text": [
            "Epoch: 13\tAvg-Loss: 0.0771\tAccuract: 0.7531\n"
          ],
          "name": "stdout"
        },
        {
          "output_type": "stream",
          "text": [
            "21it [00:02,  8.32it/s]\n",
            "0it [00:00, ?it/s]"
          ],
          "name": "stderr"
        },
        {
          "output_type": "stream",
          "text": [
            "Epoch: 13\tAvg-Loss: 0.1592\tAccuract: 0.7594\n"
          ],
          "name": "stdout"
        },
        {
          "output_type": "stream",
          "text": [
            "9it [00:00, 18.27it/s]\n",
            "1it [00:00,  8.35it/s]"
          ],
          "name": "stderr"
        },
        {
          "output_type": "stream",
          "text": [
            "Epoch: 12, Validation Accuracy: 0.24\n",
            "Epoch: 12, Validation loss: 2.99\n",
            "Epoch 12, lr 1.9073486328125e-08\n"
          ],
          "name": "stdout"
        },
        {
          "output_type": "stream",
          "text": [
            "11it [00:01,  8.26it/s]"
          ],
          "name": "stderr"
        },
        {
          "output_type": "stream",
          "text": [
            "Epoch: 14\tAvg-Loss: 0.0818\tAccuract: 0.7562\n"
          ],
          "name": "stdout"
        },
        {
          "output_type": "stream",
          "text": [
            "21it [00:02,  8.38it/s]\n",
            "0it [00:00, ?it/s]"
          ],
          "name": "stderr"
        },
        {
          "output_type": "stream",
          "text": [
            "Epoch: 14\tAvg-Loss: 0.1639\tAccuract: 0.7656\n"
          ],
          "name": "stdout"
        },
        {
          "output_type": "stream",
          "text": [
            "9it [00:00, 17.90it/s]\n",
            "1it [00:00,  8.39it/s]"
          ],
          "name": "stderr"
        },
        {
          "output_type": "stream",
          "text": [
            "Epoch: 13, Validation Accuracy: 0.25\n",
            "Epoch: 13, Validation loss: 3.11\n",
            "Epoch 13, lr 1.9073486328125e-08\n"
          ],
          "name": "stdout"
        },
        {
          "output_type": "stream",
          "text": [
            "11it [00:01,  8.28it/s]"
          ],
          "name": "stderr"
        },
        {
          "output_type": "stream",
          "text": [
            "Epoch: 15\tAvg-Loss: 0.0809\tAccuract: 0.7594\n"
          ],
          "name": "stdout"
        },
        {
          "output_type": "stream",
          "text": [
            "21it [00:02,  8.32it/s]\n",
            "0it [00:00, ?it/s]"
          ],
          "name": "stderr"
        },
        {
          "output_type": "stream",
          "text": [
            "Epoch: 15\tAvg-Loss: 0.1622\tAccuract: 0.7484\n"
          ],
          "name": "stdout"
        },
        {
          "output_type": "stream",
          "text": [
            "9it [00:00, 17.68it/s]\n",
            "1it [00:00,  8.13it/s]"
          ],
          "name": "stderr"
        },
        {
          "output_type": "stream",
          "text": [
            "Epoch: 14, Validation Accuracy: 0.24\n",
            "Epoch: 14, Validation loss: 3.20\n",
            "Epoch 14, lr 1.9073486328125e-08\n"
          ],
          "name": "stdout"
        },
        {
          "output_type": "stream",
          "text": [
            "11it [00:01,  8.27it/s]"
          ],
          "name": "stderr"
        },
        {
          "output_type": "stream",
          "text": [
            "Epoch: 16\tAvg-Loss: 0.0770\tAccuract: 0.7625\n"
          ],
          "name": "stdout"
        },
        {
          "output_type": "stream",
          "text": [
            "21it [00:02,  8.37it/s]\n",
            "0it [00:00, ?it/s]"
          ],
          "name": "stderr"
        },
        {
          "output_type": "stream",
          "text": [
            "Epoch: 16\tAvg-Loss: 0.1554\tAccuract: 0.7625\n"
          ],
          "name": "stdout"
        },
        {
          "output_type": "stream",
          "text": [
            "9it [00:00, 17.94it/s]\n",
            "1it [00:00,  8.35it/s]"
          ],
          "name": "stderr"
        },
        {
          "output_type": "stream",
          "text": [
            "Epoch: 15, Validation Accuracy: 0.26\n",
            "Epoch: 15, Validation loss: 3.09\n",
            "Epoch 15, lr 1.9073486328125e-08\n"
          ],
          "name": "stdout"
        },
        {
          "output_type": "stream",
          "text": [
            "11it [00:01,  8.33it/s]"
          ],
          "name": "stderr"
        },
        {
          "output_type": "stream",
          "text": [
            "Epoch: 17\tAvg-Loss: 0.0775\tAccuract: 0.7969\n"
          ],
          "name": "stdout"
        },
        {
          "output_type": "stream",
          "text": [
            "21it [00:02,  8.40it/s]\n",
            "0it [00:00, ?it/s]"
          ],
          "name": "stderr"
        },
        {
          "output_type": "stream",
          "text": [
            "Epoch: 17\tAvg-Loss: 0.1557\tAccuract: 0.7828\n"
          ],
          "name": "stdout"
        },
        {
          "output_type": "stream",
          "text": [
            "9it [00:00, 17.78it/s]\n",
            "1it [00:00,  8.12it/s]"
          ],
          "name": "stderr"
        },
        {
          "output_type": "stream",
          "text": [
            "Epoch: 16, Validation Accuracy: 0.24\n",
            "Epoch: 16, Validation loss: 3.00\n",
            "Epoch 16, lr 1.9073486328125e-08\n"
          ],
          "name": "stdout"
        },
        {
          "output_type": "stream",
          "text": [
            "11it [00:01,  8.23it/s]"
          ],
          "name": "stderr"
        },
        {
          "output_type": "stream",
          "text": [
            "Epoch: 18\tAvg-Loss: 0.0793\tAccuract: 0.7500\n"
          ],
          "name": "stdout"
        },
        {
          "output_type": "stream",
          "text": [
            "21it [00:02,  8.36it/s]\n",
            "0it [00:00, ?it/s]"
          ],
          "name": "stderr"
        },
        {
          "output_type": "stream",
          "text": [
            "Epoch: 18\tAvg-Loss: 0.1584\tAccuract: 0.7594\n"
          ],
          "name": "stdout"
        },
        {
          "output_type": "stream",
          "text": [
            "9it [00:00, 18.14it/s]\n",
            "1it [00:00,  8.22it/s]"
          ],
          "name": "stderr"
        },
        {
          "output_type": "stream",
          "text": [
            "Epoch: 17, Validation Accuracy: 0.26\n",
            "Epoch: 17, Validation loss: 2.99\n",
            "Epoch 17, lr 1.9073486328125e-08\n"
          ],
          "name": "stdout"
        },
        {
          "output_type": "stream",
          "text": [
            "11it [00:01,  8.27it/s]"
          ],
          "name": "stderr"
        },
        {
          "output_type": "stream",
          "text": [
            "Epoch: 19\tAvg-Loss: 0.0790\tAccuract: 0.7688\n"
          ],
          "name": "stdout"
        },
        {
          "output_type": "stream",
          "text": [
            "21it [00:02,  8.37it/s]\n",
            "0it [00:00, ?it/s]"
          ],
          "name": "stderr"
        },
        {
          "output_type": "stream",
          "text": [
            "Epoch: 19\tAvg-Loss: 0.1594\tAccuract: 0.7672\n"
          ],
          "name": "stdout"
        },
        {
          "output_type": "stream",
          "text": [
            "9it [00:00, 17.97it/s]\n",
            "1it [00:00,  8.33it/s]"
          ],
          "name": "stderr"
        },
        {
          "output_type": "stream",
          "text": [
            "Epoch: 18, Validation Accuracy: 0.24\n",
            "Epoch: 18, Validation loss: 2.97\n",
            "Epoch 18, lr 1.9073486328125e-08\n"
          ],
          "name": "stdout"
        },
        {
          "output_type": "stream",
          "text": [
            "11it [00:01,  8.28it/s]"
          ],
          "name": "stderr"
        },
        {
          "output_type": "stream",
          "text": [
            "Epoch: 20\tAvg-Loss: 0.0830\tAccuract: 0.7500\n"
          ],
          "name": "stdout"
        },
        {
          "output_type": "stream",
          "text": [
            "21it [00:02,  8.41it/s]\n",
            "0it [00:00, ?it/s]"
          ],
          "name": "stderr"
        },
        {
          "output_type": "stream",
          "text": [
            "Epoch: 20\tAvg-Loss: 0.1570\tAccuract: 0.7750\n"
          ],
          "name": "stdout"
        },
        {
          "output_type": "stream",
          "text": [
            "9it [00:00, 18.21it/s]\n",
            "1it [00:00,  8.07it/s]"
          ],
          "name": "stderr"
        },
        {
          "output_type": "stream",
          "text": [
            "Epoch: 19, Validation Accuracy: 0.25\n",
            "Epoch: 19, Validation loss: 3.05\n",
            "Epoch 19, lr 1.9073486328125e-08\n"
          ],
          "name": "stdout"
        },
        {
          "output_type": "stream",
          "text": [
            "11it [00:01,  8.25it/s]"
          ],
          "name": "stderr"
        },
        {
          "output_type": "stream",
          "text": [
            "Epoch: 21\tAvg-Loss: 0.0803\tAccuract: 0.7656\n"
          ],
          "name": "stdout"
        },
        {
          "output_type": "stream",
          "text": [
            "21it [00:02,  8.28it/s]\n",
            "0it [00:00, ?it/s]"
          ],
          "name": "stderr"
        },
        {
          "output_type": "stream",
          "text": [
            "Epoch: 21\tAvg-Loss: 0.1604\tAccuract: 0.7766\n"
          ],
          "name": "stdout"
        },
        {
          "output_type": "stream",
          "text": [
            "9it [00:00, 17.93it/s]\n",
            "1it [00:00,  8.27it/s]"
          ],
          "name": "stderr"
        },
        {
          "output_type": "stream",
          "text": [
            "Epoch: 20, Validation Accuracy: 0.26\n",
            "Epoch: 20, Validation loss: 3.00\n",
            "Epoch 20, lr 1.9073486328125e-08\n"
          ],
          "name": "stdout"
        },
        {
          "output_type": "stream",
          "text": [
            "11it [00:01,  8.32it/s]"
          ],
          "name": "stderr"
        },
        {
          "output_type": "stream",
          "text": [
            "Epoch: 22\tAvg-Loss: 0.0768\tAccuract: 0.7812\n"
          ],
          "name": "stdout"
        },
        {
          "output_type": "stream",
          "text": [
            "21it [00:02,  8.41it/s]\n",
            "0it [00:00, ?it/s]"
          ],
          "name": "stderr"
        },
        {
          "output_type": "stream",
          "text": [
            "Epoch: 22\tAvg-Loss: 0.1557\tAccuract: 0.7781\n"
          ],
          "name": "stdout"
        },
        {
          "output_type": "stream",
          "text": [
            "9it [00:00, 17.90it/s]\n",
            "1it [00:00,  8.20it/s]"
          ],
          "name": "stderr"
        },
        {
          "output_type": "stream",
          "text": [
            "Epoch: 21, Validation Accuracy: 0.23\n",
            "Epoch: 21, Validation loss: 3.01\n",
            "Epoch 21, lr 1.9073486328125e-08\n"
          ],
          "name": "stdout"
        },
        {
          "output_type": "stream",
          "text": [
            "11it [00:01,  8.29it/s]"
          ],
          "name": "stderr"
        },
        {
          "output_type": "stream",
          "text": [
            "Epoch: 23\tAvg-Loss: 0.0735\tAccuract: 0.8031\n"
          ],
          "name": "stdout"
        },
        {
          "output_type": "stream",
          "text": [
            "21it [00:02,  8.38it/s]\n",
            "0it [00:00, ?it/s]"
          ],
          "name": "stderr"
        },
        {
          "output_type": "stream",
          "text": [
            "Epoch: 23\tAvg-Loss: 0.1570\tAccuract: 0.7719\n"
          ],
          "name": "stdout"
        },
        {
          "output_type": "stream",
          "text": [
            "9it [00:00, 18.17it/s]\n",
            "1it [00:00,  8.29it/s]"
          ],
          "name": "stderr"
        },
        {
          "output_type": "stream",
          "text": [
            "Epoch: 22, Validation Accuracy: 0.22\n",
            "Epoch: 22, Validation loss: 3.02\n",
            "Epoch 22, lr 1.9073486328125e-08\n"
          ],
          "name": "stdout"
        },
        {
          "output_type": "stream",
          "text": [
            "11it [00:01,  8.18it/s]"
          ],
          "name": "stderr"
        },
        {
          "output_type": "stream",
          "text": [
            "Epoch: 24\tAvg-Loss: 0.0823\tAccuract: 0.7594\n"
          ],
          "name": "stdout"
        },
        {
          "output_type": "stream",
          "text": [
            "21it [00:02,  8.32it/s]\n",
            "0it [00:00, ?it/s]"
          ],
          "name": "stderr"
        },
        {
          "output_type": "stream",
          "text": [
            "Epoch: 24\tAvg-Loss: 0.1611\tAccuract: 0.7625\n"
          ],
          "name": "stdout"
        },
        {
          "output_type": "stream",
          "text": [
            "9it [00:00, 18.07it/s]\n",
            "1it [00:00,  8.29it/s]"
          ],
          "name": "stderr"
        },
        {
          "output_type": "stream",
          "text": [
            "Epoch: 23, Validation Accuracy: 0.22\n",
            "Epoch: 23, Validation loss: 3.11\n",
            "Epoch 23, lr 1.9073486328125e-08\n"
          ],
          "name": "stdout"
        },
        {
          "output_type": "stream",
          "text": [
            "11it [00:01,  8.17it/s]"
          ],
          "name": "stderr"
        },
        {
          "output_type": "stream",
          "text": [
            "Epoch: 25\tAvg-Loss: 0.0840\tAccuract: 0.7562\n"
          ],
          "name": "stdout"
        },
        {
          "output_type": "stream",
          "text": [
            "21it [00:02,  8.36it/s]\n",
            "0it [00:00, ?it/s]"
          ],
          "name": "stderr"
        },
        {
          "output_type": "stream",
          "text": [
            "Epoch: 25\tAvg-Loss: 0.1629\tAccuract: 0.7734\n"
          ],
          "name": "stdout"
        },
        {
          "output_type": "stream",
          "text": [
            "9it [00:00, 17.55it/s]\n",
            "1it [00:00,  8.37it/s]"
          ],
          "name": "stderr"
        },
        {
          "output_type": "stream",
          "text": [
            "Epoch: 24, Validation Accuracy: 0.24\n",
            "Epoch: 24, Validation loss: 3.07\n",
            "Epoch 24, lr 1.9073486328125e-08\n"
          ],
          "name": "stdout"
        },
        {
          "output_type": "stream",
          "text": [
            "11it [00:01,  8.25it/s]"
          ],
          "name": "stderr"
        },
        {
          "output_type": "stream",
          "text": [
            "Epoch: 26\tAvg-Loss: 0.0835\tAccuract: 0.7531\n"
          ],
          "name": "stdout"
        },
        {
          "output_type": "stream",
          "text": [
            "21it [00:02,  8.35it/s]\n",
            "0it [00:00, ?it/s]"
          ],
          "name": "stderr"
        },
        {
          "output_type": "stream",
          "text": [
            "Epoch: 26\tAvg-Loss: 0.1575\tAccuract: 0.7688\n"
          ],
          "name": "stdout"
        },
        {
          "output_type": "stream",
          "text": [
            "9it [00:00, 18.36it/s]\n",
            "1it [00:00,  8.47it/s]"
          ],
          "name": "stderr"
        },
        {
          "output_type": "stream",
          "text": [
            "Epoch: 25, Validation Accuracy: 0.26\n",
            "Epoch: 25, Validation loss: 3.05\n",
            "Epoch 25, lr 1.9073486328125e-08\n"
          ],
          "name": "stdout"
        },
        {
          "output_type": "stream",
          "text": [
            "11it [00:01,  8.21it/s]"
          ],
          "name": "stderr"
        },
        {
          "output_type": "stream",
          "text": [
            "Epoch: 27\tAvg-Loss: 0.0773\tAccuract: 0.7781\n"
          ],
          "name": "stdout"
        },
        {
          "output_type": "stream",
          "text": [
            "21it [00:02,  8.35it/s]\n",
            "0it [00:00, ?it/s]"
          ],
          "name": "stderr"
        },
        {
          "output_type": "stream",
          "text": [
            "Epoch: 27\tAvg-Loss: 0.1526\tAccuract: 0.7828\n"
          ],
          "name": "stdout"
        },
        {
          "output_type": "stream",
          "text": [
            "9it [00:00, 17.93it/s]\n",
            "1it [00:00,  8.00it/s]"
          ],
          "name": "stderr"
        },
        {
          "output_type": "stream",
          "text": [
            "Epoch: 26, Validation Accuracy: 0.26\n",
            "Epoch: 26, Validation loss: 3.04\n",
            "Epoch 26, lr 1.9073486328125e-08\n"
          ],
          "name": "stdout"
        },
        {
          "output_type": "stream",
          "text": [
            "11it [00:01,  8.20it/s]"
          ],
          "name": "stderr"
        },
        {
          "output_type": "stream",
          "text": [
            "Epoch: 28\tAvg-Loss: 0.0754\tAccuract: 0.7969\n"
          ],
          "name": "stdout"
        },
        {
          "output_type": "stream",
          "text": [
            "21it [00:02,  8.34it/s]\n",
            "0it [00:00, ?it/s]"
          ],
          "name": "stderr"
        },
        {
          "output_type": "stream",
          "text": [
            "Epoch: 28\tAvg-Loss: 0.1523\tAccuract: 0.7891\n"
          ],
          "name": "stdout"
        },
        {
          "output_type": "stream",
          "text": [
            "9it [00:00, 17.77it/s]\n",
            "1it [00:00,  8.22it/s]"
          ],
          "name": "stderr"
        },
        {
          "output_type": "stream",
          "text": [
            "Epoch: 27, Validation Accuracy: 0.25\n",
            "Epoch: 27, Validation loss: 3.03\n",
            "Epoch 27, lr 1.9073486328125e-08\n"
          ],
          "name": "stdout"
        },
        {
          "output_type": "stream",
          "text": [
            "11it [00:01,  8.26it/s]"
          ],
          "name": "stderr"
        },
        {
          "output_type": "stream",
          "text": [
            "Epoch: 29\tAvg-Loss: 0.0803\tAccuract: 0.7625\n"
          ],
          "name": "stdout"
        },
        {
          "output_type": "stream",
          "text": [
            "21it [00:02,  8.35it/s]\n",
            "0it [00:00, ?it/s]"
          ],
          "name": "stderr"
        },
        {
          "output_type": "stream",
          "text": [
            "Epoch: 29\tAvg-Loss: 0.1542\tAccuract: 0.7719\n"
          ],
          "name": "stdout"
        },
        {
          "output_type": "stream",
          "text": [
            "9it [00:00, 17.68it/s]\n",
            "1it [00:00,  8.34it/s]"
          ],
          "name": "stderr"
        },
        {
          "output_type": "stream",
          "text": [
            "Epoch: 28, Validation Accuracy: 0.22\n",
            "Epoch: 28, Validation loss: 2.88\n",
            "Epoch 28, lr 1.9073486328125e-08\n"
          ],
          "name": "stdout"
        },
        {
          "output_type": "stream",
          "text": [
            "11it [00:01,  8.28it/s]"
          ],
          "name": "stderr"
        },
        {
          "output_type": "stream",
          "text": [
            "Epoch: 30\tAvg-Loss: 0.0816\tAccuract: 0.7594\n"
          ],
          "name": "stdout"
        },
        {
          "output_type": "stream",
          "text": [
            "21it [00:02,  8.38it/s]\n",
            "0it [00:00, ?it/s]"
          ],
          "name": "stderr"
        },
        {
          "output_type": "stream",
          "text": [
            "Epoch: 30\tAvg-Loss: 0.1553\tAccuract: 0.7781\n"
          ],
          "name": "stdout"
        },
        {
          "output_type": "stream",
          "text": [
            "9it [00:00, 18.31it/s]\n",
            "1it [00:00,  8.13it/s]"
          ],
          "name": "stderr"
        },
        {
          "output_type": "stream",
          "text": [
            "Epoch: 29, Validation Accuracy: 0.24\n",
            "Epoch: 29, Validation loss: 3.04\n",
            "Epoch 29, lr 1.9073486328125e-08\n"
          ],
          "name": "stdout"
        },
        {
          "output_type": "stream",
          "text": [
            "11it [00:01,  8.23it/s]"
          ],
          "name": "stderr"
        },
        {
          "output_type": "stream",
          "text": [
            "Epoch: 31\tAvg-Loss: 0.0779\tAccuract: 0.7656\n"
          ],
          "name": "stdout"
        },
        {
          "output_type": "stream",
          "text": [
            "21it [00:02,  8.35it/s]\n",
            "0it [00:00, ?it/s]"
          ],
          "name": "stderr"
        },
        {
          "output_type": "stream",
          "text": [
            "Epoch: 31\tAvg-Loss: 0.1587\tAccuract: 0.7641\n"
          ],
          "name": "stdout"
        },
        {
          "output_type": "stream",
          "text": [
            "9it [00:00, 17.07it/s]\n",
            "1it [00:00,  8.18it/s]"
          ],
          "name": "stderr"
        },
        {
          "output_type": "stream",
          "text": [
            "Epoch: 30, Validation Accuracy: 0.26\n",
            "Epoch: 30, Validation loss: 3.06\n",
            "Epoch 30, lr 1.9073486328125e-08\n"
          ],
          "name": "stdout"
        },
        {
          "output_type": "stream",
          "text": [
            "11it [00:01,  8.25it/s]"
          ],
          "name": "stderr"
        },
        {
          "output_type": "stream",
          "text": [
            "Epoch: 32\tAvg-Loss: 0.0849\tAccuract: 0.7375\n"
          ],
          "name": "stdout"
        },
        {
          "output_type": "stream",
          "text": [
            "21it [00:02,  8.36it/s]\n",
            "0it [00:00, ?it/s]"
          ],
          "name": "stderr"
        },
        {
          "output_type": "stream",
          "text": [
            "Epoch: 32\tAvg-Loss: 0.1537\tAccuract: 0.7719\n"
          ],
          "name": "stdout"
        },
        {
          "output_type": "stream",
          "text": [
            "9it [00:00, 17.86it/s]\n",
            "1it [00:00,  8.26it/s]"
          ],
          "name": "stderr"
        },
        {
          "output_type": "stream",
          "text": [
            "Epoch: 31, Validation Accuracy: 0.25\n",
            "Epoch: 31, Validation loss: 3.03\n",
            "Epoch 31, lr 1.9073486328125e-08\n"
          ],
          "name": "stdout"
        },
        {
          "output_type": "stream",
          "text": [
            "11it [00:01,  8.17it/s]"
          ],
          "name": "stderr"
        },
        {
          "output_type": "stream",
          "text": [
            "Epoch: 33\tAvg-Loss: 0.0789\tAccuract: 0.7594\n"
          ],
          "name": "stdout"
        },
        {
          "output_type": "stream",
          "text": [
            "21it [00:02,  8.33it/s]\n",
            "0it [00:00, ?it/s]"
          ],
          "name": "stderr"
        },
        {
          "output_type": "stream",
          "text": [
            "Epoch: 33\tAvg-Loss: 0.1626\tAccuract: 0.7594\n"
          ],
          "name": "stdout"
        },
        {
          "output_type": "stream",
          "text": [
            "9it [00:00, 17.91it/s]\n",
            "1it [00:00,  8.29it/s]"
          ],
          "name": "stderr"
        },
        {
          "output_type": "stream",
          "text": [
            "Epoch: 32, Validation Accuracy: 0.25\n",
            "Epoch: 32, Validation loss: 2.98\n",
            "Epoch 32, lr 1.9073486328125e-08\n"
          ],
          "name": "stdout"
        },
        {
          "output_type": "stream",
          "text": [
            "11it [00:01,  8.25it/s]"
          ],
          "name": "stderr"
        },
        {
          "output_type": "stream",
          "text": [
            "Epoch: 34\tAvg-Loss: 0.0786\tAccuract: 0.7594\n"
          ],
          "name": "stdout"
        },
        {
          "output_type": "stream",
          "text": [
            "21it [00:02,  8.33it/s]\n",
            "0it [00:00, ?it/s]"
          ],
          "name": "stderr"
        },
        {
          "output_type": "stream",
          "text": [
            "Epoch: 34\tAvg-Loss: 0.1553\tAccuract: 0.7672\n"
          ],
          "name": "stdout"
        },
        {
          "output_type": "stream",
          "text": [
            "9it [00:00, 17.54it/s]\n",
            "1it [00:00,  7.94it/s]"
          ],
          "name": "stderr"
        },
        {
          "output_type": "stream",
          "text": [
            "Epoch: 33, Validation Accuracy: 0.24\n",
            "Epoch: 33, Validation loss: 2.93\n",
            "Epoch 33, lr 1.9073486328125e-08\n"
          ],
          "name": "stdout"
        },
        {
          "output_type": "stream",
          "text": [
            "11it [00:01,  8.20it/s]"
          ],
          "name": "stderr"
        },
        {
          "output_type": "stream",
          "text": [
            "Epoch: 35\tAvg-Loss: 0.0774\tAccuract: 0.7812\n"
          ],
          "name": "stdout"
        },
        {
          "output_type": "stream",
          "text": [
            "21it [00:02,  8.25it/s]\n",
            "0it [00:00, ?it/s]"
          ],
          "name": "stderr"
        },
        {
          "output_type": "stream",
          "text": [
            "Epoch: 35\tAvg-Loss: 0.1642\tAccuract: 0.7625\n"
          ],
          "name": "stdout"
        },
        {
          "output_type": "stream",
          "text": [
            "9it [00:00, 17.62it/s]\n",
            "1it [00:00,  8.22it/s]"
          ],
          "name": "stderr"
        },
        {
          "output_type": "stream",
          "text": [
            "Epoch: 34, Validation Accuracy: 0.25\n",
            "Epoch: 34, Validation loss: 3.20\n",
            "Epoch 34, lr 1.9073486328125e-08\n"
          ],
          "name": "stdout"
        },
        {
          "output_type": "stream",
          "text": [
            "11it [00:01,  8.18it/s]"
          ],
          "name": "stderr"
        },
        {
          "output_type": "stream",
          "text": [
            "Epoch: 36\tAvg-Loss: 0.0720\tAccuract: 0.8156\n"
          ],
          "name": "stdout"
        },
        {
          "output_type": "stream",
          "text": [
            "21it [00:02,  8.36it/s]\n",
            "0it [00:00, ?it/s]"
          ],
          "name": "stderr"
        },
        {
          "output_type": "stream",
          "text": [
            "Epoch: 36\tAvg-Loss: 0.1537\tAccuract: 0.7937\n"
          ],
          "name": "stdout"
        },
        {
          "output_type": "stream",
          "text": [
            "9it [00:00, 18.18it/s]\n",
            "1it [00:00,  8.32it/s]"
          ],
          "name": "stderr"
        },
        {
          "output_type": "stream",
          "text": [
            "Epoch: 35, Validation Accuracy: 0.24\n",
            "Epoch: 35, Validation loss: 3.07\n",
            "Epoch 35, lr 1.9073486328125e-08\n"
          ],
          "name": "stdout"
        },
        {
          "output_type": "stream",
          "text": [
            "11it [00:01,  8.30it/s]"
          ],
          "name": "stderr"
        },
        {
          "output_type": "stream",
          "text": [
            "Epoch: 37\tAvg-Loss: 0.0729\tAccuract: 0.7969\n"
          ],
          "name": "stdout"
        },
        {
          "output_type": "stream",
          "text": [
            "21it [00:02,  8.36it/s]\n",
            "0it [00:00, ?it/s]"
          ],
          "name": "stderr"
        },
        {
          "output_type": "stream",
          "text": [
            "Epoch: 37\tAvg-Loss: 0.1562\tAccuract: 0.7859\n"
          ],
          "name": "stdout"
        },
        {
          "output_type": "stream",
          "text": [
            "9it [00:00, 17.85it/s]\n",
            "1it [00:00,  8.11it/s]"
          ],
          "name": "stderr"
        },
        {
          "output_type": "stream",
          "text": [
            "Epoch: 36, Validation Accuracy: 0.22\n",
            "Epoch: 36, Validation loss: 3.07\n",
            "Epoch 36, lr 1.9073486328125e-08\n"
          ],
          "name": "stdout"
        },
        {
          "output_type": "stream",
          "text": [
            "11it [00:01,  8.22it/s]"
          ],
          "name": "stderr"
        },
        {
          "output_type": "stream",
          "text": [
            "Epoch: 38\tAvg-Loss: 0.0832\tAccuract: 0.7531\n"
          ],
          "name": "stdout"
        },
        {
          "output_type": "stream",
          "text": [
            "21it [00:02,  8.38it/s]\n",
            "0it [00:00, ?it/s]"
          ],
          "name": "stderr"
        },
        {
          "output_type": "stream",
          "text": [
            "Epoch: 38\tAvg-Loss: 0.1624\tAccuract: 0.7656\n"
          ],
          "name": "stdout"
        },
        {
          "output_type": "stream",
          "text": [
            "9it [00:00, 18.03it/s]\n",
            "1it [00:00,  8.17it/s]"
          ],
          "name": "stderr"
        },
        {
          "output_type": "stream",
          "text": [
            "Epoch: 37, Validation Accuracy: 0.23\n",
            "Epoch: 37, Validation loss: 3.08\n",
            "Epoch 37, lr 1.9073486328125e-08\n"
          ],
          "name": "stdout"
        },
        {
          "output_type": "stream",
          "text": [
            "11it [00:01,  8.23it/s]"
          ],
          "name": "stderr"
        },
        {
          "output_type": "stream",
          "text": [
            "Epoch: 39\tAvg-Loss: 0.0787\tAccuract: 0.7656\n"
          ],
          "name": "stdout"
        },
        {
          "output_type": "stream",
          "text": [
            "21it [00:02,  8.32it/s]\n",
            "0it [00:00, ?it/s]"
          ],
          "name": "stderr"
        },
        {
          "output_type": "stream",
          "text": [
            "Epoch: 39\tAvg-Loss: 0.1559\tAccuract: 0.7625\n"
          ],
          "name": "stdout"
        },
        {
          "output_type": "stream",
          "text": [
            "9it [00:00, 18.10it/s]\n",
            "1it [00:00,  8.23it/s]"
          ],
          "name": "stderr"
        },
        {
          "output_type": "stream",
          "text": [
            "Epoch: 38, Validation Accuracy: 0.24\n",
            "Epoch: 38, Validation loss: 3.06\n",
            "Epoch 38, lr 1.9073486328125e-08\n"
          ],
          "name": "stdout"
        },
        {
          "output_type": "stream",
          "text": [
            "11it [00:01,  8.09it/s]"
          ],
          "name": "stderr"
        },
        {
          "output_type": "stream",
          "text": [
            "Epoch: 40\tAvg-Loss: 0.0790\tAccuract: 0.7750\n"
          ],
          "name": "stdout"
        },
        {
          "output_type": "stream",
          "text": [
            "21it [00:02,  8.30it/s]\n",
            "0it [00:00, ?it/s]"
          ],
          "name": "stderr"
        },
        {
          "output_type": "stream",
          "text": [
            "Epoch: 40\tAvg-Loss: 0.1582\tAccuract: 0.7828\n"
          ],
          "name": "stdout"
        },
        {
          "output_type": "stream",
          "text": [
            "9it [00:00, 17.75it/s]\n",
            "1it [00:00,  8.30it/s]"
          ],
          "name": "stderr"
        },
        {
          "output_type": "stream",
          "text": [
            "Epoch: 39, Validation Accuracy: 0.26\n",
            "Epoch: 39, Validation loss: 3.06\n",
            "Epoch 39, lr 1.9073486328125e-08\n"
          ],
          "name": "stdout"
        },
        {
          "output_type": "stream",
          "text": [
            "11it [00:01,  8.23it/s]"
          ],
          "name": "stderr"
        },
        {
          "output_type": "stream",
          "text": [
            "Epoch: 41\tAvg-Loss: 0.0827\tAccuract: 0.7844\n"
          ],
          "name": "stdout"
        },
        {
          "output_type": "stream",
          "text": [
            "21it [00:02,  8.32it/s]\n",
            "0it [00:00, ?it/s]"
          ],
          "name": "stderr"
        },
        {
          "output_type": "stream",
          "text": [
            "Epoch: 41\tAvg-Loss: 0.1578\tAccuract: 0.7844\n"
          ],
          "name": "stdout"
        },
        {
          "output_type": "stream",
          "text": [
            "9it [00:00, 18.08it/s]\n",
            "1it [00:00,  8.36it/s]"
          ],
          "name": "stderr"
        },
        {
          "output_type": "stream",
          "text": [
            "Epoch: 40, Validation Accuracy: 0.26\n",
            "Epoch: 40, Validation loss: 3.07\n",
            "Epoch 40, lr 1.9073486328125e-08\n"
          ],
          "name": "stdout"
        },
        {
          "output_type": "stream",
          "text": [
            "11it [00:01,  8.18it/s]"
          ],
          "name": "stderr"
        },
        {
          "output_type": "stream",
          "text": [
            "Epoch: 42\tAvg-Loss: 0.0752\tAccuract: 0.7937\n"
          ],
          "name": "stdout"
        },
        {
          "output_type": "stream",
          "text": [
            "21it [00:02,  8.30it/s]\n",
            "0it [00:00, ?it/s]"
          ],
          "name": "stderr"
        },
        {
          "output_type": "stream",
          "text": [
            "Epoch: 42\tAvg-Loss: 0.1569\tAccuract: 0.7875\n"
          ],
          "name": "stdout"
        },
        {
          "output_type": "stream",
          "text": [
            "9it [00:00, 17.01it/s]\n",
            "1it [00:00,  8.16it/s]"
          ],
          "name": "stderr"
        },
        {
          "output_type": "stream",
          "text": [
            "Epoch: 41, Validation Accuracy: 0.26\n",
            "Epoch: 41, Validation loss: 2.96\n",
            "Epoch 41, lr 1.9073486328125e-08\n"
          ],
          "name": "stdout"
        },
        {
          "output_type": "stream",
          "text": [
            "11it [00:01,  8.13it/s]"
          ],
          "name": "stderr"
        },
        {
          "output_type": "stream",
          "text": [
            "Epoch: 43\tAvg-Loss: 0.0855\tAccuract: 0.7469\n"
          ],
          "name": "stdout"
        },
        {
          "output_type": "stream",
          "text": [
            "21it [00:02,  8.27it/s]\n",
            "0it [00:00, ?it/s]"
          ],
          "name": "stderr"
        },
        {
          "output_type": "stream",
          "text": [
            "Epoch: 43\tAvg-Loss: 0.1580\tAccuract: 0.7766\n"
          ],
          "name": "stdout"
        },
        {
          "output_type": "stream",
          "text": [
            "9it [00:00, 17.95it/s]\n",
            "1it [00:00,  8.33it/s]"
          ],
          "name": "stderr"
        },
        {
          "output_type": "stream",
          "text": [
            "Epoch: 42, Validation Accuracy: 0.25\n",
            "Epoch: 42, Validation loss: 3.12\n",
            "Epoch 42, lr 1.9073486328125e-08\n"
          ],
          "name": "stdout"
        },
        {
          "output_type": "stream",
          "text": [
            "11it [00:01,  8.22it/s]"
          ],
          "name": "stderr"
        },
        {
          "output_type": "stream",
          "text": [
            "Epoch: 44\tAvg-Loss: 0.0782\tAccuract: 0.7750\n"
          ],
          "name": "stdout"
        },
        {
          "output_type": "stream",
          "text": [
            "21it [00:02,  8.32it/s]\n",
            "0it [00:00, ?it/s]"
          ],
          "name": "stderr"
        },
        {
          "output_type": "stream",
          "text": [
            "Epoch: 44\tAvg-Loss: 0.1558\tAccuract: 0.7734\n"
          ],
          "name": "stdout"
        },
        {
          "output_type": "stream",
          "text": [
            "9it [00:00, 17.88it/s]\n",
            "1it [00:00,  8.11it/s]"
          ],
          "name": "stderr"
        },
        {
          "output_type": "stream",
          "text": [
            "Epoch: 43, Validation Accuracy: 0.22\n",
            "Epoch: 43, Validation loss: 3.08\n",
            "Epoch 43, lr 1.9073486328125e-08\n"
          ],
          "name": "stdout"
        },
        {
          "output_type": "stream",
          "text": [
            "11it [00:01,  8.20it/s]"
          ],
          "name": "stderr"
        },
        {
          "output_type": "stream",
          "text": [
            "Epoch: 45\tAvg-Loss: 0.0823\tAccuract: 0.7406\n"
          ],
          "name": "stdout"
        },
        {
          "output_type": "stream",
          "text": [
            "21it [00:02,  8.33it/s]\n",
            "0it [00:00, ?it/s]"
          ],
          "name": "stderr"
        },
        {
          "output_type": "stream",
          "text": [
            "Epoch: 45\tAvg-Loss: 0.1561\tAccuract: 0.7656\n"
          ],
          "name": "stdout"
        },
        {
          "output_type": "stream",
          "text": [
            "9it [00:00, 17.71it/s]\n",
            "1it [00:00,  8.10it/s]"
          ],
          "name": "stderr"
        },
        {
          "output_type": "stream",
          "text": [
            "Epoch: 44, Validation Accuracy: 0.25\n",
            "Epoch: 44, Validation loss: 2.93\n",
            "Epoch 44, lr 1.9073486328125e-08\n"
          ],
          "name": "stdout"
        },
        {
          "output_type": "stream",
          "text": [
            "11it [00:01,  8.24it/s]"
          ],
          "name": "stderr"
        },
        {
          "output_type": "stream",
          "text": [
            "Epoch: 46\tAvg-Loss: 0.0808\tAccuract: 0.7750\n"
          ],
          "name": "stdout"
        },
        {
          "output_type": "stream",
          "text": [
            "21it [00:02,  8.33it/s]\n",
            "0it [00:00, ?it/s]"
          ],
          "name": "stderr"
        },
        {
          "output_type": "stream",
          "text": [
            "Epoch: 46\tAvg-Loss: 0.1563\tAccuract: 0.7719\n"
          ],
          "name": "stdout"
        },
        {
          "output_type": "stream",
          "text": [
            "9it [00:00, 17.84it/s]\n",
            "1it [00:00,  8.21it/s]"
          ],
          "name": "stderr"
        },
        {
          "output_type": "stream",
          "text": [
            "Epoch: 45, Validation Accuracy: 0.26\n",
            "Epoch: 45, Validation loss: 2.96\n",
            "Epoch 45, lr 1.9073486328125e-08\n"
          ],
          "name": "stdout"
        },
        {
          "output_type": "stream",
          "text": [
            "11it [00:01,  8.02it/s]"
          ],
          "name": "stderr"
        },
        {
          "output_type": "stream",
          "text": [
            "Epoch: 47\tAvg-Loss: 0.0745\tAccuract: 0.7750\n"
          ],
          "name": "stdout"
        },
        {
          "output_type": "stream",
          "text": [
            "21it [00:02,  8.21it/s]\n",
            "0it [00:00, ?it/s]"
          ],
          "name": "stderr"
        },
        {
          "output_type": "stream",
          "text": [
            "Epoch: 47\tAvg-Loss: 0.1544\tAccuract: 0.7781\n"
          ],
          "name": "stdout"
        },
        {
          "output_type": "stream",
          "text": [
            "9it [00:00, 18.05it/s]\n",
            "1it [00:00,  8.31it/s]"
          ],
          "name": "stderr"
        },
        {
          "output_type": "stream",
          "text": [
            "Epoch: 46, Validation Accuracy: 0.24\n",
            "Epoch: 46, Validation loss: 3.09\n",
            "Epoch 46, lr 1.9073486328125e-08\n"
          ],
          "name": "stdout"
        },
        {
          "output_type": "stream",
          "text": [
            "11it [00:01,  8.22it/s]"
          ],
          "name": "stderr"
        },
        {
          "output_type": "stream",
          "text": [
            "Epoch: 48\tAvg-Loss: 0.0917\tAccuract: 0.7156\n"
          ],
          "name": "stdout"
        },
        {
          "output_type": "stream",
          "text": [
            "21it [00:02,  8.31it/s]\n",
            "0it [00:00, ?it/s]"
          ],
          "name": "stderr"
        },
        {
          "output_type": "stream",
          "text": [
            "Epoch: 48\tAvg-Loss: 0.1675\tAccuract: 0.7547\n"
          ],
          "name": "stdout"
        },
        {
          "output_type": "stream",
          "text": [
            "9it [00:00, 17.87it/s]\n",
            "1it [00:00,  8.31it/s]"
          ],
          "name": "stderr"
        },
        {
          "output_type": "stream",
          "text": [
            "Epoch: 47, Validation Accuracy: 0.27\n",
            "Epoch: 47, Validation loss: 2.97\n",
            "Epoch 47, lr 1.9073486328125e-08\n"
          ],
          "name": "stdout"
        },
        {
          "output_type": "stream",
          "text": [
            "11it [00:01,  8.28it/s]"
          ],
          "name": "stderr"
        },
        {
          "output_type": "stream",
          "text": [
            "Epoch: 49\tAvg-Loss: 0.0709\tAccuract: 0.8063\n"
          ],
          "name": "stdout"
        },
        {
          "output_type": "stream",
          "text": [
            "21it [00:02,  8.36it/s]\n",
            "0it [00:00, ?it/s]"
          ],
          "name": "stderr"
        },
        {
          "output_type": "stream",
          "text": [
            "Epoch: 49\tAvg-Loss: 0.1560\tAccuract: 0.7812\n"
          ],
          "name": "stdout"
        },
        {
          "output_type": "stream",
          "text": [
            "9it [00:00, 18.14it/s]\n",
            "1it [00:00,  8.14it/s]"
          ],
          "name": "stderr"
        },
        {
          "output_type": "stream",
          "text": [
            "Epoch: 48, Validation Accuracy: 0.24\n",
            "Epoch: 48, Validation loss: 3.02\n",
            "Epoch 48, lr 1.9073486328125e-08\n"
          ],
          "name": "stdout"
        },
        {
          "output_type": "stream",
          "text": [
            "11it [00:01,  8.24it/s]"
          ],
          "name": "stderr"
        },
        {
          "output_type": "stream",
          "text": [
            "Epoch: 50\tAvg-Loss: 0.0732\tAccuract: 0.7781\n"
          ],
          "name": "stdout"
        },
        {
          "output_type": "stream",
          "text": [
            "21it [00:02,  8.33it/s]\n",
            "0it [00:00, ?it/s]"
          ],
          "name": "stderr"
        },
        {
          "output_type": "stream",
          "text": [
            "Epoch: 50\tAvg-Loss: 0.1558\tAccuract: 0.7531\n"
          ],
          "name": "stdout"
        },
        {
          "output_type": "stream",
          "text": [
            "9it [00:00, 17.33it/s]\n",
            "1it [00:00,  8.21it/s]"
          ],
          "name": "stderr"
        },
        {
          "output_type": "stream",
          "text": [
            "Epoch: 49, Validation Accuracy: 0.26\n",
            "Epoch: 49, Validation loss: 3.13\n",
            "Epoch 49, lr 1.9073486328125e-08\n"
          ],
          "name": "stdout"
        },
        {
          "output_type": "stream",
          "text": [
            "11it [00:01,  8.27it/s]"
          ],
          "name": "stderr"
        },
        {
          "output_type": "stream",
          "text": [
            "Epoch: 51\tAvg-Loss: 0.0853\tAccuract: 0.7312\n"
          ],
          "name": "stdout"
        },
        {
          "output_type": "stream",
          "text": [
            "21it [00:02,  8.35it/s]\n",
            "0it [00:00, ?it/s]"
          ],
          "name": "stderr"
        },
        {
          "output_type": "stream",
          "text": [
            "Epoch: 51\tAvg-Loss: 0.1606\tAccuract: 0.7531\n"
          ],
          "name": "stdout"
        },
        {
          "output_type": "stream",
          "text": [
            "9it [00:00, 17.93it/s]\n",
            "1it [00:00,  8.20it/s]"
          ],
          "name": "stderr"
        },
        {
          "output_type": "stream",
          "text": [
            "Epoch: 50, Validation Accuracy: 0.24\n",
            "Epoch: 50, Validation loss: 3.12\n",
            "Epoch 50, lr 1.9073486328125e-08\n"
          ],
          "name": "stdout"
        },
        {
          "output_type": "stream",
          "text": [
            "11it [00:01,  8.22it/s]"
          ],
          "name": "stderr"
        },
        {
          "output_type": "stream",
          "text": [
            "Epoch: 52\tAvg-Loss: 0.0807\tAccuract: 0.7656\n"
          ],
          "name": "stdout"
        },
        {
          "output_type": "stream",
          "text": [
            "21it [00:02,  8.34it/s]\n",
            "0it [00:00, ?it/s]"
          ],
          "name": "stderr"
        },
        {
          "output_type": "stream",
          "text": [
            "Epoch: 52\tAvg-Loss: 0.1602\tAccuract: 0.7641\n"
          ],
          "name": "stdout"
        },
        {
          "output_type": "stream",
          "text": [
            "9it [00:00, 18.20it/s]\n",
            "1it [00:00,  8.14it/s]"
          ],
          "name": "stderr"
        },
        {
          "output_type": "stream",
          "text": [
            "Epoch: 51, Validation Accuracy: 0.24\n",
            "Epoch: 51, Validation loss: 3.01\n",
            "Epoch 51, lr 1.9073486328125e-08\n"
          ],
          "name": "stdout"
        },
        {
          "output_type": "stream",
          "text": [
            "11it [00:01,  8.26it/s]"
          ],
          "name": "stderr"
        },
        {
          "output_type": "stream",
          "text": [
            "Epoch: 53\tAvg-Loss: 0.0776\tAccuract: 0.7562\n"
          ],
          "name": "stdout"
        },
        {
          "output_type": "stream",
          "text": [
            "21it [00:02,  8.28it/s]\n",
            "0it [00:00, ?it/s]"
          ],
          "name": "stderr"
        },
        {
          "output_type": "stream",
          "text": [
            "Epoch: 53\tAvg-Loss: 0.1602\tAccuract: 0.7625\n"
          ],
          "name": "stdout"
        },
        {
          "output_type": "stream",
          "text": [
            "9it [00:00, 17.80it/s]\n",
            "1it [00:00,  8.25it/s]"
          ],
          "name": "stderr"
        },
        {
          "output_type": "stream",
          "text": [
            "Epoch: 52, Validation Accuracy: 0.25\n",
            "Epoch: 52, Validation loss: 3.17\n",
            "Epoch 52, lr 1.9073486328125e-08\n"
          ],
          "name": "stdout"
        },
        {
          "output_type": "stream",
          "text": [
            "11it [00:01,  8.25it/s]"
          ],
          "name": "stderr"
        },
        {
          "output_type": "stream",
          "text": [
            "Epoch: 54\tAvg-Loss: 0.0815\tAccuract: 0.7469\n"
          ],
          "name": "stdout"
        },
        {
          "output_type": "stream",
          "text": [
            "21it [00:02,  8.37it/s]\n",
            "0it [00:00, ?it/s]"
          ],
          "name": "stderr"
        },
        {
          "output_type": "stream",
          "text": [
            "Epoch: 54\tAvg-Loss: 0.1597\tAccuract: 0.7516\n"
          ],
          "name": "stdout"
        },
        {
          "output_type": "stream",
          "text": [
            "9it [00:00, 18.17it/s]\n",
            "1it [00:00,  8.23it/s]"
          ],
          "name": "stderr"
        },
        {
          "output_type": "stream",
          "text": [
            "Epoch: 53, Validation Accuracy: 0.24\n",
            "Epoch: 53, Validation loss: 3.14\n",
            "Epoch 53, lr 1.9073486328125e-08\n"
          ],
          "name": "stdout"
        },
        {
          "output_type": "stream",
          "text": [
            "11it [00:01,  8.00it/s]"
          ],
          "name": "stderr"
        },
        {
          "output_type": "stream",
          "text": [
            "Epoch: 55\tAvg-Loss: 0.0818\tAccuract: 0.7312\n"
          ],
          "name": "stdout"
        },
        {
          "output_type": "stream",
          "text": [
            "21it [00:02,  8.23it/s]\n",
            "0it [00:00, ?it/s]"
          ],
          "name": "stderr"
        },
        {
          "output_type": "stream",
          "text": [
            "Epoch: 55\tAvg-Loss: 0.1562\tAccuract: 0.7672\n"
          ],
          "name": "stdout"
        },
        {
          "output_type": "stream",
          "text": [
            "9it [00:00, 17.93it/s]\n",
            "1it [00:00,  8.36it/s]"
          ],
          "name": "stderr"
        },
        {
          "output_type": "stream",
          "text": [
            "Epoch: 54, Validation Accuracy: 0.25\n",
            "Epoch: 54, Validation loss: 3.09\n",
            "Epoch 54, lr 1.9073486328125e-08\n"
          ],
          "name": "stdout"
        },
        {
          "output_type": "stream",
          "text": [
            "11it [00:01,  8.16it/s]"
          ],
          "name": "stderr"
        },
        {
          "output_type": "stream",
          "text": [
            "Epoch: 56\tAvg-Loss: 0.0851\tAccuract: 0.7281\n"
          ],
          "name": "stdout"
        },
        {
          "output_type": "stream",
          "text": [
            "21it [00:02,  8.36it/s]\n",
            "0it [00:00, ?it/s]"
          ],
          "name": "stderr"
        },
        {
          "output_type": "stream",
          "text": [
            "Epoch: 56\tAvg-Loss: 0.1584\tAccuract: 0.7641\n"
          ],
          "name": "stdout"
        },
        {
          "output_type": "stream",
          "text": [
            "9it [00:00, 18.06it/s]\n",
            "1it [00:00,  8.36it/s]"
          ],
          "name": "stderr"
        },
        {
          "output_type": "stream",
          "text": [
            "Epoch: 55, Validation Accuracy: 0.27\n",
            "Epoch: 55, Validation loss: 3.03\n",
            "Epoch 55, lr 1.9073486328125e-08\n"
          ],
          "name": "stdout"
        },
        {
          "output_type": "stream",
          "text": [
            "11it [00:01,  8.19it/s]"
          ],
          "name": "stderr"
        },
        {
          "output_type": "stream",
          "text": [
            "Epoch: 57\tAvg-Loss: 0.0788\tAccuract: 0.7719\n"
          ],
          "name": "stdout"
        },
        {
          "output_type": "stream",
          "text": [
            "21it [00:02,  8.38it/s]\n",
            "0it [00:00, ?it/s]"
          ],
          "name": "stderr"
        },
        {
          "output_type": "stream",
          "text": [
            "Epoch: 57\tAvg-Loss: 0.1625\tAccuract: 0.7562\n"
          ],
          "name": "stdout"
        },
        {
          "output_type": "stream",
          "text": [
            "9it [00:00, 18.03it/s]\n",
            "1it [00:00,  8.26it/s]"
          ],
          "name": "stderr"
        },
        {
          "output_type": "stream",
          "text": [
            "Epoch: 56, Validation Accuracy: 0.24\n",
            "Epoch: 56, Validation loss: 3.03\n",
            "Epoch 56, lr 1.9073486328125e-08\n"
          ],
          "name": "stdout"
        },
        {
          "output_type": "stream",
          "text": [
            "11it [00:01,  8.28it/s]"
          ],
          "name": "stderr"
        },
        {
          "output_type": "stream",
          "text": [
            "Epoch: 58\tAvg-Loss: 0.0871\tAccuract: 0.7188\n"
          ],
          "name": "stdout"
        },
        {
          "output_type": "stream",
          "text": [
            "21it [00:02,  8.39it/s]\n",
            "0it [00:00, ?it/s]"
          ],
          "name": "stderr"
        },
        {
          "output_type": "stream",
          "text": [
            "Epoch: 58\tAvg-Loss: 0.1602\tAccuract: 0.7547\n"
          ],
          "name": "stdout"
        },
        {
          "output_type": "stream",
          "text": [
            "9it [00:00, 18.07it/s]\n",
            "1it [00:00,  8.22it/s]"
          ],
          "name": "stderr"
        },
        {
          "output_type": "stream",
          "text": [
            "Epoch: 57, Validation Accuracy: 0.24\n",
            "Epoch: 57, Validation loss: 3.12\n",
            "Epoch 57, lr 1.9073486328125e-08\n"
          ],
          "name": "stdout"
        },
        {
          "output_type": "stream",
          "text": [
            "11it [00:01,  8.23it/s]"
          ],
          "name": "stderr"
        },
        {
          "output_type": "stream",
          "text": [
            "Epoch: 59\tAvg-Loss: 0.0809\tAccuract: 0.7625\n"
          ],
          "name": "stdout"
        },
        {
          "output_type": "stream",
          "text": [
            "21it [00:02,  8.37it/s]\n",
            "0it [00:00, ?it/s]"
          ],
          "name": "stderr"
        },
        {
          "output_type": "stream",
          "text": [
            "Epoch: 59\tAvg-Loss: 0.1598\tAccuract: 0.7703\n"
          ],
          "name": "stdout"
        },
        {
          "output_type": "stream",
          "text": [
            "9it [00:00, 18.05it/s]\n",
            "1it [00:00,  8.32it/s]"
          ],
          "name": "stderr"
        },
        {
          "output_type": "stream",
          "text": [
            "Epoch: 58, Validation Accuracy: 0.26\n",
            "Epoch: 58, Validation loss: 2.97\n",
            "Epoch 58, lr 1.9073486328125e-08\n"
          ],
          "name": "stdout"
        },
        {
          "output_type": "stream",
          "text": [
            "11it [00:01,  8.30it/s]"
          ],
          "name": "stderr"
        },
        {
          "output_type": "stream",
          "text": [
            "Epoch: 60\tAvg-Loss: 0.0847\tAccuract: 0.7625\n"
          ],
          "name": "stdout"
        },
        {
          "output_type": "stream",
          "text": [
            "21it [00:02,  8.37it/s]\n",
            "0it [00:00, ?it/s]"
          ],
          "name": "stderr"
        },
        {
          "output_type": "stream",
          "text": [
            "Epoch: 60\tAvg-Loss: 0.1599\tAccuract: 0.7641\n"
          ],
          "name": "stdout"
        },
        {
          "output_type": "stream",
          "text": [
            "9it [00:00, 18.10it/s]\n",
            "1it [00:00,  8.15it/s]"
          ],
          "name": "stderr"
        },
        {
          "output_type": "stream",
          "text": [
            "Epoch: 59, Validation Accuracy: 0.24\n",
            "Epoch: 59, Validation loss: 3.06\n",
            "Epoch 59, lr 1.9073486328125e-08\n"
          ],
          "name": "stdout"
        },
        {
          "output_type": "stream",
          "text": [
            "11it [00:01,  8.24it/s]"
          ],
          "name": "stderr"
        },
        {
          "output_type": "stream",
          "text": [
            "Epoch: 61\tAvg-Loss: 0.0837\tAccuract: 0.7531\n"
          ],
          "name": "stdout"
        },
        {
          "output_type": "stream",
          "text": [
            "21it [00:02,  8.41it/s]\n",
            "0it [00:00, ?it/s]"
          ],
          "name": "stderr"
        },
        {
          "output_type": "stream",
          "text": [
            "Epoch: 61\tAvg-Loss: 0.1665\tAccuract: 0.7578\n"
          ],
          "name": "stdout"
        },
        {
          "output_type": "stream",
          "text": [
            "9it [00:00, 18.13it/s]\n",
            "1it [00:00,  8.41it/s]"
          ],
          "name": "stderr"
        },
        {
          "output_type": "stream",
          "text": [
            "Epoch: 60, Validation Accuracy: 0.26\n",
            "Epoch: 60, Validation loss: 2.98\n",
            "Epoch 60, lr 1.9073486328125e-08\n"
          ],
          "name": "stdout"
        },
        {
          "output_type": "stream",
          "text": [
            "11it [00:01,  8.24it/s]"
          ],
          "name": "stderr"
        },
        {
          "output_type": "stream",
          "text": [
            "Epoch: 62\tAvg-Loss: 0.0798\tAccuract: 0.7688\n"
          ],
          "name": "stdout"
        },
        {
          "output_type": "stream",
          "text": [
            "21it [00:02,  8.36it/s]\n",
            "0it [00:00, ?it/s]"
          ],
          "name": "stderr"
        },
        {
          "output_type": "stream",
          "text": [
            "Epoch: 62\tAvg-Loss: 0.1586\tAccuract: 0.7766\n"
          ],
          "name": "stdout"
        },
        {
          "output_type": "stream",
          "text": [
            "9it [00:00, 18.43it/s]\n",
            "1it [00:00,  8.32it/s]"
          ],
          "name": "stderr"
        },
        {
          "output_type": "stream",
          "text": [
            "Epoch: 61, Validation Accuracy: 0.22\n",
            "Epoch: 61, Validation loss: 3.07\n",
            "Epoch 61, lr 1.9073486328125e-08\n"
          ],
          "name": "stdout"
        },
        {
          "output_type": "stream",
          "text": [
            "11it [00:01,  8.30it/s]"
          ],
          "name": "stderr"
        },
        {
          "output_type": "stream",
          "text": [
            "Epoch: 63\tAvg-Loss: 0.0803\tAccuract: 0.7625\n"
          ],
          "name": "stdout"
        },
        {
          "output_type": "stream",
          "text": [
            "21it [00:02,  8.39it/s]\n",
            "0it [00:00, ?it/s]"
          ],
          "name": "stderr"
        },
        {
          "output_type": "stream",
          "text": [
            "Epoch: 63\tAvg-Loss: 0.1539\tAccuract: 0.7688\n"
          ],
          "name": "stdout"
        },
        {
          "output_type": "stream",
          "text": [
            "9it [00:00, 18.21it/s]\n",
            "1it [00:00,  8.20it/s]"
          ],
          "name": "stderr"
        },
        {
          "output_type": "stream",
          "text": [
            "Epoch: 62, Validation Accuracy: 0.25\n",
            "Epoch: 62, Validation loss: 3.04\n",
            "Epoch 62, lr 1.9073486328125e-08\n"
          ],
          "name": "stdout"
        },
        {
          "output_type": "stream",
          "text": [
            "11it [00:01,  8.31it/s]"
          ],
          "name": "stderr"
        },
        {
          "output_type": "stream",
          "text": [
            "Epoch: 64\tAvg-Loss: 0.0865\tAccuract: 0.7469\n"
          ],
          "name": "stdout"
        },
        {
          "output_type": "stream",
          "text": [
            "21it [00:02,  8.30it/s]\n",
            "0it [00:00, ?it/s]"
          ],
          "name": "stderr"
        },
        {
          "output_type": "stream",
          "text": [
            "Epoch: 64\tAvg-Loss: 0.1546\tAccuract: 0.7812\n"
          ],
          "name": "stdout"
        },
        {
          "output_type": "stream",
          "text": [
            "9it [00:00, 17.71it/s]\n",
            "1it [00:00,  8.18it/s]"
          ],
          "name": "stderr"
        },
        {
          "output_type": "stream",
          "text": [
            "Epoch: 63, Validation Accuracy: 0.25\n",
            "Epoch: 63, Validation loss: 2.99\n",
            "Epoch 63, lr 1.9073486328125e-08\n"
          ],
          "name": "stdout"
        },
        {
          "output_type": "stream",
          "text": [
            "11it [00:01,  8.31it/s]"
          ],
          "name": "stderr"
        },
        {
          "output_type": "stream",
          "text": [
            "Epoch: 65\tAvg-Loss: 0.0779\tAccuract: 0.7812\n"
          ],
          "name": "stdout"
        },
        {
          "output_type": "stream",
          "text": [
            "21it [00:02,  8.36it/s]\n",
            "0it [00:00, ?it/s]"
          ],
          "name": "stderr"
        },
        {
          "output_type": "stream",
          "text": [
            "Epoch: 65\tAvg-Loss: 0.1657\tAccuract: 0.7547\n"
          ],
          "name": "stdout"
        },
        {
          "output_type": "stream",
          "text": [
            "9it [00:00, 18.03it/s]\n",
            "1it [00:00,  8.20it/s]"
          ],
          "name": "stderr"
        },
        {
          "output_type": "stream",
          "text": [
            "Epoch: 64, Validation Accuracy: 0.26\n",
            "Epoch: 64, Validation loss: 2.96\n",
            "Epoch 64, lr 1.9073486328125e-08\n"
          ],
          "name": "stdout"
        },
        {
          "output_type": "stream",
          "text": [
            "11it [00:01,  8.28it/s]"
          ],
          "name": "stderr"
        },
        {
          "output_type": "stream",
          "text": [
            "Epoch: 66\tAvg-Loss: 0.0793\tAccuract: 0.7906\n"
          ],
          "name": "stdout"
        },
        {
          "output_type": "stream",
          "text": [
            "21it [00:02,  8.38it/s]\n",
            "0it [00:00, ?it/s]"
          ],
          "name": "stderr"
        },
        {
          "output_type": "stream",
          "text": [
            "Epoch: 66\tAvg-Loss: 0.1561\tAccuract: 0.7766\n"
          ],
          "name": "stdout"
        },
        {
          "output_type": "stream",
          "text": [
            "9it [00:00, 18.02it/s]\n",
            "1it [00:00,  8.39it/s]"
          ],
          "name": "stderr"
        },
        {
          "output_type": "stream",
          "text": [
            "Epoch: 65, Validation Accuracy: 0.26\n",
            "Epoch: 65, Validation loss: 3.02\n",
            "Epoch 65, lr 1.9073486328125e-08\n"
          ],
          "name": "stdout"
        },
        {
          "output_type": "stream",
          "text": [
            "11it [00:01,  8.24it/s]"
          ],
          "name": "stderr"
        },
        {
          "output_type": "stream",
          "text": [
            "Epoch: 67\tAvg-Loss: 0.0799\tAccuract: 0.7531\n"
          ],
          "name": "stdout"
        },
        {
          "output_type": "stream",
          "text": [
            "21it [00:02,  8.39it/s]\n",
            "0it [00:00, ?it/s]"
          ],
          "name": "stderr"
        },
        {
          "output_type": "stream",
          "text": [
            "Epoch: 67\tAvg-Loss: 0.1616\tAccuract: 0.7453\n"
          ],
          "name": "stdout"
        },
        {
          "output_type": "stream",
          "text": [
            "9it [00:00, 18.11it/s]\n",
            "1it [00:00,  8.13it/s]"
          ],
          "name": "stderr"
        },
        {
          "output_type": "stream",
          "text": [
            "Epoch: 66, Validation Accuracy: 0.21\n",
            "Epoch: 66, Validation loss: 3.14\n",
            "Epoch 66, lr 1.9073486328125e-08\n"
          ],
          "name": "stdout"
        },
        {
          "output_type": "stream",
          "text": [
            "11it [00:01,  8.20it/s]"
          ],
          "name": "stderr"
        },
        {
          "output_type": "stream",
          "text": [
            "Epoch: 68\tAvg-Loss: 0.0749\tAccuract: 0.7750\n"
          ],
          "name": "stdout"
        },
        {
          "output_type": "stream",
          "text": [
            "21it [00:02,  8.34it/s]\n",
            "0it [00:00, ?it/s]"
          ],
          "name": "stderr"
        },
        {
          "output_type": "stream",
          "text": [
            "Epoch: 68\tAvg-Loss: 0.1525\tAccuract: 0.7906\n"
          ],
          "name": "stdout"
        },
        {
          "output_type": "stream",
          "text": [
            "9it [00:00, 17.68it/s]\n",
            "1it [00:00,  8.37it/s]"
          ],
          "name": "stderr"
        },
        {
          "output_type": "stream",
          "text": [
            "Epoch: 67, Validation Accuracy: 0.24\n",
            "Epoch: 67, Validation loss: 3.12\n",
            "Epoch 67, lr 1.9073486328125e-08\n"
          ],
          "name": "stdout"
        },
        {
          "output_type": "stream",
          "text": [
            "11it [00:01,  8.25it/s]"
          ],
          "name": "stderr"
        },
        {
          "output_type": "stream",
          "text": [
            "Epoch: 69\tAvg-Loss: 0.0815\tAccuract: 0.7781\n"
          ],
          "name": "stdout"
        },
        {
          "output_type": "stream",
          "text": [
            "21it [00:02,  8.38it/s]\n",
            "0it [00:00, ?it/s]"
          ],
          "name": "stderr"
        },
        {
          "output_type": "stream",
          "text": [
            "Epoch: 69\tAvg-Loss: 0.1577\tAccuract: 0.7828\n"
          ],
          "name": "stdout"
        },
        {
          "output_type": "stream",
          "text": [
            "9it [00:00, 18.10it/s]\n",
            "1it [00:00,  8.25it/s]"
          ],
          "name": "stderr"
        },
        {
          "output_type": "stream",
          "text": [
            "Epoch: 68, Validation Accuracy: 0.24\n",
            "Epoch: 68, Validation loss: 2.99\n",
            "Epoch 68, lr 1.9073486328125e-08\n"
          ],
          "name": "stdout"
        },
        {
          "output_type": "stream",
          "text": [
            "11it [00:01,  8.30it/s]"
          ],
          "name": "stderr"
        },
        {
          "output_type": "stream",
          "text": [
            "Epoch: 70\tAvg-Loss: 0.0861\tAccuract: 0.7438\n"
          ],
          "name": "stdout"
        },
        {
          "output_type": "stream",
          "text": [
            "21it [00:02,  8.36it/s]\n",
            "0it [00:00, ?it/s]"
          ],
          "name": "stderr"
        },
        {
          "output_type": "stream",
          "text": [
            "Epoch: 70\tAvg-Loss: 0.1585\tAccuract: 0.7609\n"
          ],
          "name": "stdout"
        },
        {
          "output_type": "stream",
          "text": [
            "9it [00:00, 17.95it/s]\n",
            "1it [00:00,  8.35it/s]"
          ],
          "name": "stderr"
        },
        {
          "output_type": "stream",
          "text": [
            "Epoch: 69, Validation Accuracy: 0.27\n",
            "Epoch: 69, Validation loss: 2.95\n",
            "Epoch 69, lr 1.9073486328125e-08\n"
          ],
          "name": "stdout"
        },
        {
          "output_type": "stream",
          "text": [
            "11it [00:01,  8.29it/s]"
          ],
          "name": "stderr"
        },
        {
          "output_type": "stream",
          "text": [
            "Epoch: 71\tAvg-Loss: 0.0757\tAccuract: 0.7844\n"
          ],
          "name": "stdout"
        },
        {
          "output_type": "stream",
          "text": [
            "21it [00:02,  8.35it/s]\n",
            "0it [00:00, ?it/s]"
          ],
          "name": "stderr"
        },
        {
          "output_type": "stream",
          "text": [
            "Epoch: 71\tAvg-Loss: 0.1578\tAccuract: 0.7797\n"
          ],
          "name": "stdout"
        },
        {
          "output_type": "stream",
          "text": [
            "9it [00:00, 17.88it/s]\n",
            "1it [00:00,  8.26it/s]"
          ],
          "name": "stderr"
        },
        {
          "output_type": "stream",
          "text": [
            "Epoch: 70, Validation Accuracy: 0.23\n",
            "Epoch: 70, Validation loss: 3.10\n",
            "Epoch 70, lr 1.9073486328125e-08\n"
          ],
          "name": "stdout"
        },
        {
          "output_type": "stream",
          "text": [
            "11it [00:01,  8.30it/s]"
          ],
          "name": "stderr"
        },
        {
          "output_type": "stream",
          "text": [
            "Epoch: 72\tAvg-Loss: 0.0797\tAccuract: 0.7656\n"
          ],
          "name": "stdout"
        },
        {
          "output_type": "stream",
          "text": [
            "21it [00:02,  8.35it/s]\n",
            "0it [00:00, ?it/s]"
          ],
          "name": "stderr"
        },
        {
          "output_type": "stream",
          "text": [
            "Epoch: 72\tAvg-Loss: 0.1581\tAccuract: 0.7781\n"
          ],
          "name": "stdout"
        },
        {
          "output_type": "stream",
          "text": [
            "9it [00:00, 17.94it/s]\n",
            "1it [00:00,  8.28it/s]"
          ],
          "name": "stderr"
        },
        {
          "output_type": "stream",
          "text": [
            "Epoch: 71, Validation Accuracy: 0.23\n",
            "Epoch: 71, Validation loss: 3.08\n",
            "Epoch 71, lr 1.9073486328125e-08\n"
          ],
          "name": "stdout"
        },
        {
          "output_type": "stream",
          "text": [
            "11it [00:01,  8.23it/s]"
          ],
          "name": "stderr"
        },
        {
          "output_type": "stream",
          "text": [
            "Epoch: 73\tAvg-Loss: 0.0860\tAccuract: 0.7406\n"
          ],
          "name": "stdout"
        },
        {
          "output_type": "stream",
          "text": [
            "21it [00:02,  8.35it/s]\n",
            "0it [00:00, ?it/s]"
          ],
          "name": "stderr"
        },
        {
          "output_type": "stream",
          "text": [
            "Epoch: 73\tAvg-Loss: 0.1633\tAccuract: 0.7672\n"
          ],
          "name": "stdout"
        },
        {
          "output_type": "stream",
          "text": [
            "9it [00:00, 17.95it/s]\n",
            "1it [00:00,  8.18it/s]"
          ],
          "name": "stderr"
        },
        {
          "output_type": "stream",
          "text": [
            "Epoch: 72, Validation Accuracy: 0.22\n",
            "Epoch: 72, Validation loss: 3.07\n",
            "Epoch 72, lr 1.9073486328125e-08\n"
          ],
          "name": "stdout"
        },
        {
          "output_type": "stream",
          "text": [
            "11it [00:01,  8.23it/s]"
          ],
          "name": "stderr"
        },
        {
          "output_type": "stream",
          "text": [
            "Epoch: 74\tAvg-Loss: 0.0850\tAccuract: 0.7406\n"
          ],
          "name": "stdout"
        },
        {
          "output_type": "stream",
          "text": [
            "21it [00:02,  8.31it/s]\n",
            "0it [00:00, ?it/s]"
          ],
          "name": "stderr"
        },
        {
          "output_type": "stream",
          "text": [
            "Epoch: 74\tAvg-Loss: 0.1648\tAccuract: 0.7609\n"
          ],
          "name": "stdout"
        },
        {
          "output_type": "stream",
          "text": [
            "9it [00:00, 17.74it/s]\n",
            "1it [00:00,  8.30it/s]"
          ],
          "name": "stderr"
        },
        {
          "output_type": "stream",
          "text": [
            "Epoch: 73, Validation Accuracy: 0.22\n",
            "Epoch: 73, Validation loss: 3.18\n",
            "Epoch 73, lr 1.9073486328125e-08\n"
          ],
          "name": "stdout"
        },
        {
          "output_type": "stream",
          "text": [
            "11it [00:01,  8.05it/s]"
          ],
          "name": "stderr"
        },
        {
          "output_type": "stream",
          "text": [
            "Epoch: 75\tAvg-Loss: 0.0775\tAccuract: 0.7844\n"
          ],
          "name": "stdout"
        },
        {
          "output_type": "stream",
          "text": [
            "21it [00:02,  8.23it/s]\n",
            "0it [00:00, ?it/s]"
          ],
          "name": "stderr"
        },
        {
          "output_type": "stream",
          "text": [
            "Epoch: 75\tAvg-Loss: 0.1602\tAccuract: 0.7672\n"
          ],
          "name": "stdout"
        },
        {
          "output_type": "stream",
          "text": [
            "9it [00:00, 17.81it/s]\n",
            "1it [00:00,  7.98it/s]"
          ],
          "name": "stderr"
        },
        {
          "output_type": "stream",
          "text": [
            "Epoch: 74, Validation Accuracy: 0.24\n",
            "Epoch: 74, Validation loss: 3.10\n",
            "Epoch 74, lr 1.9073486328125e-08\n"
          ],
          "name": "stdout"
        },
        {
          "output_type": "stream",
          "text": [
            "11it [00:01,  8.26it/s]"
          ],
          "name": "stderr"
        },
        {
          "output_type": "stream",
          "text": [
            "Epoch: 76\tAvg-Loss: 0.0866\tAccuract: 0.7594\n"
          ],
          "name": "stdout"
        },
        {
          "output_type": "stream",
          "text": [
            "21it [00:02,  8.35it/s]\n",
            "0it [00:00, ?it/s]"
          ],
          "name": "stderr"
        },
        {
          "output_type": "stream",
          "text": [
            "Epoch: 76\tAvg-Loss: 0.1667\tAccuract: 0.7688\n"
          ],
          "name": "stdout"
        },
        {
          "output_type": "stream",
          "text": [
            "9it [00:00, 18.09it/s]\n",
            "1it [00:00,  8.24it/s]"
          ],
          "name": "stderr"
        },
        {
          "output_type": "stream",
          "text": [
            "Epoch: 75, Validation Accuracy: 0.25\n",
            "Epoch: 75, Validation loss: 3.02\n",
            "Epoch 75, lr 1.9073486328125e-08\n"
          ],
          "name": "stdout"
        },
        {
          "output_type": "stream",
          "text": [
            "11it [00:01,  8.25it/s]"
          ],
          "name": "stderr"
        },
        {
          "output_type": "stream",
          "text": [
            "Epoch: 77\tAvg-Loss: 0.0752\tAccuract: 0.7656\n"
          ],
          "name": "stdout"
        },
        {
          "output_type": "stream",
          "text": [
            "21it [00:02,  8.37it/s]\n",
            "0it [00:00, ?it/s]"
          ],
          "name": "stderr"
        },
        {
          "output_type": "stream",
          "text": [
            "Epoch: 77\tAvg-Loss: 0.1606\tAccuract: 0.7750\n"
          ],
          "name": "stdout"
        },
        {
          "output_type": "stream",
          "text": [
            "9it [00:00, 17.89it/s]\n",
            "1it [00:00,  8.22it/s]"
          ],
          "name": "stderr"
        },
        {
          "output_type": "stream",
          "text": [
            "Epoch: 76, Validation Accuracy: 0.26\n",
            "Epoch: 76, Validation loss: 2.98\n",
            "Epoch 76, lr 1.9073486328125e-08\n"
          ],
          "name": "stdout"
        },
        {
          "output_type": "stream",
          "text": [
            "11it [00:01,  8.31it/s]"
          ],
          "name": "stderr"
        },
        {
          "output_type": "stream",
          "text": [
            "Epoch: 78\tAvg-Loss: 0.0783\tAccuract: 0.7844\n"
          ],
          "name": "stdout"
        },
        {
          "output_type": "stream",
          "text": [
            "21it [00:02,  8.36it/s]\n",
            "0it [00:00, ?it/s]"
          ],
          "name": "stderr"
        },
        {
          "output_type": "stream",
          "text": [
            "Epoch: 78\tAvg-Loss: 0.1626\tAccuract: 0.7547\n"
          ],
          "name": "stdout"
        },
        {
          "output_type": "stream",
          "text": [
            "9it [00:00, 18.21it/s]\n",
            "1it [00:00,  8.39it/s]"
          ],
          "name": "stderr"
        },
        {
          "output_type": "stream",
          "text": [
            "Epoch: 77, Validation Accuracy: 0.24\n",
            "Epoch: 77, Validation loss: 3.12\n",
            "Epoch 77, lr 1.9073486328125e-08\n"
          ],
          "name": "stdout"
        },
        {
          "output_type": "stream",
          "text": [
            "11it [00:01,  8.20it/s]"
          ],
          "name": "stderr"
        },
        {
          "output_type": "stream",
          "text": [
            "Epoch: 79\tAvg-Loss: 0.0908\tAccuract: 0.7219\n"
          ],
          "name": "stdout"
        },
        {
          "output_type": "stream",
          "text": [
            "21it [00:02,  8.37it/s]\n",
            "0it [00:00, ?it/s]"
          ],
          "name": "stderr"
        },
        {
          "output_type": "stream",
          "text": [
            "Epoch: 79\tAvg-Loss: 0.1785\tAccuract: 0.7312\n"
          ],
          "name": "stdout"
        },
        {
          "output_type": "stream",
          "text": [
            "9it [00:00, 18.12it/s]\n",
            "1it [00:00,  8.10it/s]"
          ],
          "name": "stderr"
        },
        {
          "output_type": "stream",
          "text": [
            "Epoch: 78, Validation Accuracy: 0.25\n",
            "Epoch: 78, Validation loss: 3.04\n",
            "Epoch 78, lr 1.9073486328125e-08\n"
          ],
          "name": "stdout"
        },
        {
          "output_type": "stream",
          "text": [
            "11it [00:01,  8.18it/s]"
          ],
          "name": "stderr"
        },
        {
          "output_type": "stream",
          "text": [
            "Epoch: 80\tAvg-Loss: 0.0752\tAccuract: 0.7844\n"
          ],
          "name": "stdout"
        },
        {
          "output_type": "stream",
          "text": [
            "21it [00:02,  8.26it/s]\n",
            "0it [00:00, ?it/s]"
          ],
          "name": "stderr"
        },
        {
          "output_type": "stream",
          "text": [
            "Epoch: 80\tAvg-Loss: 0.1561\tAccuract: 0.7688\n"
          ],
          "name": "stdout"
        },
        {
          "output_type": "stream",
          "text": [
            "9it [00:00, 18.00it/s]\n",
            "1it [00:00,  8.14it/s]"
          ],
          "name": "stderr"
        },
        {
          "output_type": "stream",
          "text": [
            "Epoch: 79, Validation Accuracy: 0.26\n",
            "Epoch: 79, Validation loss: 3.04\n",
            "Epoch 79, lr 1.9073486328125e-08\n"
          ],
          "name": "stdout"
        },
        {
          "output_type": "stream",
          "text": [
            "11it [00:01,  8.15it/s]"
          ],
          "name": "stderr"
        },
        {
          "output_type": "stream",
          "text": [
            "Epoch: 81\tAvg-Loss: 0.0821\tAccuract: 0.7594\n"
          ],
          "name": "stdout"
        },
        {
          "output_type": "stream",
          "text": [
            "21it [00:02,  8.30it/s]\n",
            "0it [00:00, ?it/s]"
          ],
          "name": "stderr"
        },
        {
          "output_type": "stream",
          "text": [
            "Epoch: 81\tAvg-Loss: 0.1596\tAccuract: 0.7812\n"
          ],
          "name": "stdout"
        },
        {
          "output_type": "stream",
          "text": [
            "9it [00:00, 18.04it/s]\n",
            "1it [00:00,  8.15it/s]"
          ],
          "name": "stderr"
        },
        {
          "output_type": "stream",
          "text": [
            "Epoch: 80, Validation Accuracy: 0.26\n",
            "Epoch: 80, Validation loss: 3.12\n",
            "Epoch 80, lr 1.9073486328125e-08\n"
          ],
          "name": "stdout"
        },
        {
          "output_type": "stream",
          "text": [
            "11it [00:01,  8.26it/s]"
          ],
          "name": "stderr"
        },
        {
          "output_type": "stream",
          "text": [
            "Epoch: 82\tAvg-Loss: 0.0848\tAccuract: 0.7250\n"
          ],
          "name": "stdout"
        },
        {
          "output_type": "stream",
          "text": [
            "21it [00:02,  8.34it/s]\n",
            "0it [00:00, ?it/s]"
          ],
          "name": "stderr"
        },
        {
          "output_type": "stream",
          "text": [
            "Epoch: 82\tAvg-Loss: 0.1617\tAccuract: 0.7594\n"
          ],
          "name": "stdout"
        },
        {
          "output_type": "stream",
          "text": [
            "9it [00:00, 17.69it/s]\n",
            "1it [00:00,  8.19it/s]"
          ],
          "name": "stderr"
        },
        {
          "output_type": "stream",
          "text": [
            "Epoch: 81, Validation Accuracy: 0.24\n",
            "Epoch: 81, Validation loss: 2.91\n",
            "Epoch 81, lr 1.9073486328125e-08\n"
          ],
          "name": "stdout"
        },
        {
          "output_type": "stream",
          "text": [
            "11it [00:01,  8.14it/s]"
          ],
          "name": "stderr"
        },
        {
          "output_type": "stream",
          "text": [
            "Epoch: 83\tAvg-Loss: 0.0780\tAccuract: 0.7625\n"
          ],
          "name": "stdout"
        },
        {
          "output_type": "stream",
          "text": [
            "21it [00:02,  8.34it/s]\n",
            "0it [00:00, ?it/s]"
          ],
          "name": "stderr"
        },
        {
          "output_type": "stream",
          "text": [
            "Epoch: 83\tAvg-Loss: 0.1535\tAccuract: 0.7672\n"
          ],
          "name": "stdout"
        },
        {
          "output_type": "stream",
          "text": [
            "9it [00:00, 17.96it/s]\n",
            "1it [00:00,  8.14it/s]"
          ],
          "name": "stderr"
        },
        {
          "output_type": "stream",
          "text": [
            "Epoch: 82, Validation Accuracy: 0.24\n",
            "Epoch: 82, Validation loss: 3.07\n",
            "Epoch 82, lr 1.9073486328125e-08\n"
          ],
          "name": "stdout"
        },
        {
          "output_type": "stream",
          "text": [
            "11it [00:01,  8.11it/s]"
          ],
          "name": "stderr"
        },
        {
          "output_type": "stream",
          "text": [
            "Epoch: 84\tAvg-Loss: 0.0870\tAccuract: 0.7375\n"
          ],
          "name": "stdout"
        },
        {
          "output_type": "stream",
          "text": [
            "21it [00:02,  8.24it/s]\n",
            "0it [00:00, ?it/s]"
          ],
          "name": "stderr"
        },
        {
          "output_type": "stream",
          "text": [
            "Epoch: 84\tAvg-Loss: 0.1646\tAccuract: 0.7500\n"
          ],
          "name": "stdout"
        },
        {
          "output_type": "stream",
          "text": [
            "9it [00:00, 17.69it/s]\n",
            "1it [00:00,  8.35it/s]"
          ],
          "name": "stderr"
        },
        {
          "output_type": "stream",
          "text": [
            "Epoch: 83, Validation Accuracy: 0.25\n",
            "Epoch: 83, Validation loss: 3.09\n",
            "Epoch 83, lr 1.9073486328125e-08\n"
          ],
          "name": "stdout"
        },
        {
          "output_type": "stream",
          "text": [
            "11it [00:01,  8.10it/s]"
          ],
          "name": "stderr"
        },
        {
          "output_type": "stream",
          "text": [
            "Epoch: 85\tAvg-Loss: 0.0804\tAccuract: 0.7750\n"
          ],
          "name": "stdout"
        },
        {
          "output_type": "stream",
          "text": [
            "21it [00:02,  8.28it/s]\n",
            "0it [00:00, ?it/s]"
          ],
          "name": "stderr"
        },
        {
          "output_type": "stream",
          "text": [
            "Epoch: 85\tAvg-Loss: 0.1566\tAccuract: 0.7891\n"
          ],
          "name": "stdout"
        },
        {
          "output_type": "stream",
          "text": [
            "9it [00:00, 17.90it/s]\n",
            "1it [00:00,  8.17it/s]"
          ],
          "name": "stderr"
        },
        {
          "output_type": "stream",
          "text": [
            "Epoch: 84, Validation Accuracy: 0.26\n",
            "Epoch: 84, Validation loss: 2.94\n",
            "Epoch 84, lr 1.9073486328125e-08\n"
          ],
          "name": "stdout"
        },
        {
          "output_type": "stream",
          "text": [
            "11it [00:01,  8.19it/s]"
          ],
          "name": "stderr"
        },
        {
          "output_type": "stream",
          "text": [
            "Epoch: 86\tAvg-Loss: 0.0811\tAccuract: 0.7688\n"
          ],
          "name": "stdout"
        },
        {
          "output_type": "stream",
          "text": [
            "21it [00:02,  8.27it/s]\n",
            "0it [00:00, ?it/s]"
          ],
          "name": "stderr"
        },
        {
          "output_type": "stream",
          "text": [
            "Epoch: 86\tAvg-Loss: 0.1615\tAccuract: 0.7703\n"
          ],
          "name": "stdout"
        },
        {
          "output_type": "stream",
          "text": [
            "9it [00:00, 17.83it/s]\n",
            "1it [00:00,  8.04it/s]"
          ],
          "name": "stderr"
        },
        {
          "output_type": "stream",
          "text": [
            "Epoch: 85, Validation Accuracy: 0.25\n",
            "Epoch: 85, Validation loss: 2.98\n",
            "Epoch 85, lr 1.9073486328125e-08\n"
          ],
          "name": "stdout"
        },
        {
          "output_type": "stream",
          "text": [
            "11it [00:01,  8.23it/s]"
          ],
          "name": "stderr"
        },
        {
          "output_type": "stream",
          "text": [
            "Epoch: 87\tAvg-Loss: 0.0772\tAccuract: 0.7656\n"
          ],
          "name": "stdout"
        },
        {
          "output_type": "stream",
          "text": [
            "21it [00:02,  8.27it/s]\n",
            "0it [00:00, ?it/s]"
          ],
          "name": "stderr"
        },
        {
          "output_type": "stream",
          "text": [
            "Epoch: 87\tAvg-Loss: 0.1552\tAccuract: 0.7703\n"
          ],
          "name": "stdout"
        },
        {
          "output_type": "stream",
          "text": [
            "9it [00:00, 17.67it/s]\n",
            "1it [00:00,  8.37it/s]"
          ],
          "name": "stderr"
        },
        {
          "output_type": "stream",
          "text": [
            "Epoch: 86, Validation Accuracy: 0.23\n",
            "Epoch: 86, Validation loss: 3.00\n",
            "Epoch 86, lr 1.9073486328125e-08\n"
          ],
          "name": "stdout"
        },
        {
          "output_type": "stream",
          "text": [
            "11it [00:01,  8.17it/s]"
          ],
          "name": "stderr"
        },
        {
          "output_type": "stream",
          "text": [
            "Epoch: 88\tAvg-Loss: 0.0870\tAccuract: 0.7438\n"
          ],
          "name": "stdout"
        },
        {
          "output_type": "stream",
          "text": [
            "21it [00:02,  8.27it/s]\n",
            "0it [00:00, ?it/s]"
          ],
          "name": "stderr"
        },
        {
          "output_type": "stream",
          "text": [
            "Epoch: 88\tAvg-Loss: 0.1626\tAccuract: 0.7641\n"
          ],
          "name": "stdout"
        },
        {
          "output_type": "stream",
          "text": [
            "9it [00:00, 17.93it/s]\n",
            "1it [00:00,  7.96it/s]"
          ],
          "name": "stderr"
        },
        {
          "output_type": "stream",
          "text": [
            "Epoch: 87, Validation Accuracy: 0.24\n",
            "Epoch: 87, Validation loss: 3.04\n",
            "Epoch 87, lr 1.9073486328125e-08\n"
          ],
          "name": "stdout"
        },
        {
          "output_type": "stream",
          "text": [
            "11it [00:01,  8.16it/s]"
          ],
          "name": "stderr"
        },
        {
          "output_type": "stream",
          "text": [
            "Epoch: 89\tAvg-Loss: 0.0804\tAccuract: 0.7594\n"
          ],
          "name": "stdout"
        },
        {
          "output_type": "stream",
          "text": [
            "21it [00:02,  8.30it/s]\n",
            "0it [00:00, ?it/s]"
          ],
          "name": "stderr"
        },
        {
          "output_type": "stream",
          "text": [
            "Epoch: 89\tAvg-Loss: 0.1534\tAccuract: 0.7750\n"
          ],
          "name": "stdout"
        },
        {
          "output_type": "stream",
          "text": [
            "9it [00:00, 17.58it/s]\n",
            "1it [00:00,  8.09it/s]"
          ],
          "name": "stderr"
        },
        {
          "output_type": "stream",
          "text": [
            "Epoch: 88, Validation Accuracy: 0.23\n",
            "Epoch: 88, Validation loss: 3.01\n",
            "Epoch 88, lr 1.9073486328125e-08\n"
          ],
          "name": "stdout"
        },
        {
          "output_type": "stream",
          "text": [
            "11it [00:01,  8.22it/s]"
          ],
          "name": "stderr"
        },
        {
          "output_type": "stream",
          "text": [
            "Epoch: 90\tAvg-Loss: 0.0791\tAccuract: 0.7625\n"
          ],
          "name": "stdout"
        },
        {
          "output_type": "stream",
          "text": [
            "21it [00:02,  8.27it/s]\n",
            "0it [00:00, ?it/s]"
          ],
          "name": "stderr"
        },
        {
          "output_type": "stream",
          "text": [
            "Epoch: 90\tAvg-Loss: 0.1570\tAccuract: 0.7562\n"
          ],
          "name": "stdout"
        },
        {
          "output_type": "stream",
          "text": [
            "9it [00:00, 18.20it/s]\n",
            "1it [00:00,  8.28it/s]"
          ],
          "name": "stderr"
        },
        {
          "output_type": "stream",
          "text": [
            "Epoch: 89, Validation Accuracy: 0.24\n",
            "Epoch: 89, Validation loss: 3.03\n",
            "Epoch 89, lr 1.9073486328125e-08\n"
          ],
          "name": "stdout"
        },
        {
          "output_type": "stream",
          "text": [
            "11it [00:01,  8.22it/s]"
          ],
          "name": "stderr"
        },
        {
          "output_type": "stream",
          "text": [
            "Epoch: 91\tAvg-Loss: 0.0807\tAccuract: 0.7531\n"
          ],
          "name": "stdout"
        },
        {
          "output_type": "stream",
          "text": [
            "21it [00:02,  8.32it/s]\n",
            "0it [00:00, ?it/s]"
          ],
          "name": "stderr"
        },
        {
          "output_type": "stream",
          "text": [
            "Epoch: 91\tAvg-Loss: 0.1608\tAccuract: 0.7562\n"
          ],
          "name": "stdout"
        },
        {
          "output_type": "stream",
          "text": [
            "9it [00:00, 17.75it/s]\n",
            "1it [00:00,  8.33it/s]"
          ],
          "name": "stderr"
        },
        {
          "output_type": "stream",
          "text": [
            "Epoch: 90, Validation Accuracy: 0.25\n",
            "Epoch: 90, Validation loss: 3.04\n",
            "Epoch 90, lr 1.9073486328125e-08\n"
          ],
          "name": "stdout"
        },
        {
          "output_type": "stream",
          "text": [
            "11it [00:01,  8.18it/s]"
          ],
          "name": "stderr"
        },
        {
          "output_type": "stream",
          "text": [
            "Epoch: 92\tAvg-Loss: 0.0768\tAccuract: 0.7906\n"
          ],
          "name": "stdout"
        },
        {
          "output_type": "stream",
          "text": [
            "21it [00:02,  8.30it/s]\n",
            "0it [00:00, ?it/s]"
          ],
          "name": "stderr"
        },
        {
          "output_type": "stream",
          "text": [
            "Epoch: 92\tAvg-Loss: 0.1583\tAccuract: 0.7781\n"
          ],
          "name": "stdout"
        },
        {
          "output_type": "stream",
          "text": [
            "9it [00:00, 17.80it/s]\n",
            "1it [00:00,  8.23it/s]"
          ],
          "name": "stderr"
        },
        {
          "output_type": "stream",
          "text": [
            "Epoch: 91, Validation Accuracy: 0.23\n",
            "Epoch: 91, Validation loss: 2.98\n",
            "Epoch 91, lr 1.9073486328125e-08\n"
          ],
          "name": "stdout"
        },
        {
          "output_type": "stream",
          "text": [
            "11it [00:01,  8.29it/s]"
          ],
          "name": "stderr"
        },
        {
          "output_type": "stream",
          "text": [
            "Epoch: 93\tAvg-Loss: 0.0935\tAccuract: 0.7094\n"
          ],
          "name": "stdout"
        },
        {
          "output_type": "stream",
          "text": [
            "21it [00:02,  8.33it/s]\n",
            "0it [00:00, ?it/s]"
          ],
          "name": "stderr"
        },
        {
          "output_type": "stream",
          "text": [
            "Epoch: 93\tAvg-Loss: 0.1628\tAccuract: 0.7656\n"
          ],
          "name": "stdout"
        },
        {
          "output_type": "stream",
          "text": [
            "9it [00:00, 17.63it/s]\n",
            "1it [00:00,  8.11it/s]"
          ],
          "name": "stderr"
        },
        {
          "output_type": "stream",
          "text": [
            "Epoch: 92, Validation Accuracy: 0.24\n",
            "Epoch: 92, Validation loss: 2.94\n",
            "Epoch 92, lr 1.9073486328125e-08\n"
          ],
          "name": "stdout"
        },
        {
          "output_type": "stream",
          "text": [
            "11it [00:01,  8.19it/s]"
          ],
          "name": "stderr"
        },
        {
          "output_type": "stream",
          "text": [
            "Epoch: 94\tAvg-Loss: 0.0798\tAccuract: 0.7719\n"
          ],
          "name": "stdout"
        },
        {
          "output_type": "stream",
          "text": [
            "21it [00:02,  8.30it/s]\n",
            "0it [00:00, ?it/s]"
          ],
          "name": "stderr"
        },
        {
          "output_type": "stream",
          "text": [
            "Epoch: 94\tAvg-Loss: 0.1566\tAccuract: 0.7859\n"
          ],
          "name": "stdout"
        },
        {
          "output_type": "stream",
          "text": [
            "9it [00:00, 17.31it/s]\n",
            "1it [00:00,  8.18it/s]"
          ],
          "name": "stderr"
        },
        {
          "output_type": "stream",
          "text": [
            "Epoch: 93, Validation Accuracy: 0.25\n",
            "Epoch: 93, Validation loss: 3.14\n",
            "Epoch 93, lr 1.9073486328125e-08\n"
          ],
          "name": "stdout"
        },
        {
          "output_type": "stream",
          "text": [
            "11it [00:01,  8.20it/s]"
          ],
          "name": "stderr"
        },
        {
          "output_type": "stream",
          "text": [
            "Epoch: 95\tAvg-Loss: 0.0882\tAccuract: 0.7469\n"
          ],
          "name": "stdout"
        },
        {
          "output_type": "stream",
          "text": [
            "21it [00:02,  8.27it/s]\n",
            "0it [00:00, ?it/s]"
          ],
          "name": "stderr"
        },
        {
          "output_type": "stream",
          "text": [
            "Epoch: 95\tAvg-Loss: 0.1648\tAccuract: 0.7578\n"
          ],
          "name": "stdout"
        },
        {
          "output_type": "stream",
          "text": [
            "9it [00:00, 17.79it/s]\n",
            "1it [00:00,  8.27it/s]"
          ],
          "name": "stderr"
        },
        {
          "output_type": "stream",
          "text": [
            "Epoch: 94, Validation Accuracy: 0.25\n",
            "Epoch: 94, Validation loss: 3.02\n",
            "Epoch 94, lr 1.9073486328125e-08\n"
          ],
          "name": "stdout"
        },
        {
          "output_type": "stream",
          "text": [
            "11it [00:01,  8.20it/s]"
          ],
          "name": "stderr"
        },
        {
          "output_type": "stream",
          "text": [
            "Epoch: 96\tAvg-Loss: 0.0749\tAccuract: 0.7969\n"
          ],
          "name": "stdout"
        },
        {
          "output_type": "stream",
          "text": [
            "21it [00:02,  8.32it/s]\n",
            "0it [00:00, ?it/s]"
          ],
          "name": "stderr"
        },
        {
          "output_type": "stream",
          "text": [
            "Epoch: 96\tAvg-Loss: 0.1591\tAccuract: 0.7703\n"
          ],
          "name": "stdout"
        },
        {
          "output_type": "stream",
          "text": [
            "9it [00:00, 17.66it/s]\n",
            "1it [00:00,  8.24it/s]"
          ],
          "name": "stderr"
        },
        {
          "output_type": "stream",
          "text": [
            "Epoch: 95, Validation Accuracy: 0.24\n",
            "Epoch: 95, Validation loss: 2.94\n",
            "Epoch 95, lr 1.9073486328125e-08\n"
          ],
          "name": "stdout"
        },
        {
          "output_type": "stream",
          "text": [
            "11it [00:01,  8.01it/s]"
          ],
          "name": "stderr"
        },
        {
          "output_type": "stream",
          "text": [
            "Epoch: 97\tAvg-Loss: 0.0730\tAccuract: 0.7875\n"
          ],
          "name": "stdout"
        },
        {
          "output_type": "stream",
          "text": [
            "21it [00:02,  8.16it/s]\n",
            "0it [00:00, ?it/s]"
          ],
          "name": "stderr"
        },
        {
          "output_type": "stream",
          "text": [
            "Epoch: 97\tAvg-Loss: 0.1597\tAccuract: 0.7641\n"
          ],
          "name": "stdout"
        },
        {
          "output_type": "stream",
          "text": [
            "9it [00:00, 17.84it/s]\n",
            "1it [00:00,  8.16it/s]"
          ],
          "name": "stderr"
        },
        {
          "output_type": "stream",
          "text": [
            "Epoch: 96, Validation Accuracy: 0.25\n",
            "Epoch: 96, Validation loss: 3.12\n",
            "Epoch 96, lr 1.9073486328125e-08\n"
          ],
          "name": "stdout"
        },
        {
          "output_type": "stream",
          "text": [
            "11it [00:01,  8.22it/s]"
          ],
          "name": "stderr"
        },
        {
          "output_type": "stream",
          "text": [
            "Epoch: 98\tAvg-Loss: 0.0793\tAccuract: 0.7781\n"
          ],
          "name": "stdout"
        },
        {
          "output_type": "stream",
          "text": [
            "21it [00:02,  8.31it/s]\n",
            "0it [00:00, ?it/s]"
          ],
          "name": "stderr"
        },
        {
          "output_type": "stream",
          "text": [
            "Epoch: 98\tAvg-Loss: 0.1536\tAccuract: 0.7875\n"
          ],
          "name": "stdout"
        },
        {
          "output_type": "stream",
          "text": [
            "9it [00:00, 17.91it/s]\n",
            "1it [00:00,  8.12it/s]"
          ],
          "name": "stderr"
        },
        {
          "output_type": "stream",
          "text": [
            "Epoch: 97, Validation Accuracy: 0.25\n",
            "Epoch: 97, Validation loss: 3.10\n",
            "Epoch 97, lr 1.9073486328125e-08\n"
          ],
          "name": "stdout"
        },
        {
          "output_type": "stream",
          "text": [
            "11it [00:01,  8.16it/s]"
          ],
          "name": "stderr"
        },
        {
          "output_type": "stream",
          "text": [
            "Epoch: 99\tAvg-Loss: 0.0796\tAccuract: 0.7625\n"
          ],
          "name": "stdout"
        },
        {
          "output_type": "stream",
          "text": [
            "21it [00:02,  8.26it/s]\n",
            "0it [00:00, ?it/s]"
          ],
          "name": "stderr"
        },
        {
          "output_type": "stream",
          "text": [
            "Epoch: 99\tAvg-Loss: 0.1574\tAccuract: 0.7656\n"
          ],
          "name": "stdout"
        },
        {
          "output_type": "stream",
          "text": [
            "9it [00:00, 17.94it/s]\n",
            "1it [00:00,  8.13it/s]"
          ],
          "name": "stderr"
        },
        {
          "output_type": "stream",
          "text": [
            "Epoch: 98, Validation Accuracy: 0.26\n",
            "Epoch: 98, Validation loss: 3.11\n",
            "Epoch 98, lr 1.9073486328125e-08\n"
          ],
          "name": "stdout"
        },
        {
          "output_type": "stream",
          "text": [
            "11it [00:01,  8.18it/s]"
          ],
          "name": "stderr"
        },
        {
          "output_type": "stream",
          "text": [
            "Epoch: 100\tAvg-Loss: 0.0716\tAccuract: 0.8125\n"
          ],
          "name": "stdout"
        },
        {
          "output_type": "stream",
          "text": [
            "21it [00:02,  8.30it/s]\n",
            "0it [00:00, ?it/s]"
          ],
          "name": "stderr"
        },
        {
          "output_type": "stream",
          "text": [
            "Epoch: 100\tAvg-Loss: 0.1535\tAccuract: 0.7859\n"
          ],
          "name": "stdout"
        },
        {
          "output_type": "stream",
          "text": [
            "9it [00:00, 17.79it/s]\n",
            "1it [00:00,  8.08it/s]"
          ],
          "name": "stderr"
        },
        {
          "output_type": "stream",
          "text": [
            "Epoch: 99, Validation Accuracy: 0.25\n",
            "Epoch: 99, Validation loss: 3.05\n",
            "Epoch 99, lr 1.9073486328125e-08\n"
          ],
          "name": "stdout"
        },
        {
          "output_type": "stream",
          "text": [
            "11it [00:01,  8.16it/s]"
          ],
          "name": "stderr"
        },
        {
          "output_type": "stream",
          "text": [
            "Epoch: 101\tAvg-Loss: 0.0830\tAccuract: 0.7469\n"
          ],
          "name": "stdout"
        },
        {
          "output_type": "stream",
          "text": [
            "21it [00:02,  8.29it/s]\n",
            "0it [00:00, ?it/s]"
          ],
          "name": "stderr"
        },
        {
          "output_type": "stream",
          "text": [
            "Epoch: 101\tAvg-Loss: 0.1615\tAccuract: 0.7719\n"
          ],
          "name": "stdout"
        },
        {
          "output_type": "stream",
          "text": [
            "9it [00:00, 17.50it/s]\n",
            "1it [00:00,  8.15it/s]"
          ],
          "name": "stderr"
        },
        {
          "output_type": "stream",
          "text": [
            "Epoch: 100, Validation Accuracy: 0.24\n",
            "Epoch: 100, Validation loss: 2.97\n",
            "Epoch 100, lr 1.9073486328125e-08\n"
          ],
          "name": "stdout"
        },
        {
          "output_type": "stream",
          "text": [
            "11it [00:01,  8.20it/s]"
          ],
          "name": "stderr"
        },
        {
          "output_type": "stream",
          "text": [
            "Epoch: 102\tAvg-Loss: 0.0800\tAccuract: 0.7719\n"
          ],
          "name": "stdout"
        },
        {
          "output_type": "stream",
          "text": [
            "21it [00:02,  8.30it/s]\n",
            "0it [00:00, ?it/s]"
          ],
          "name": "stderr"
        },
        {
          "output_type": "stream",
          "text": [
            "Epoch: 102\tAvg-Loss: 0.1556\tAccuract: 0.7828\n"
          ],
          "name": "stdout"
        },
        {
          "output_type": "stream",
          "text": [
            "9it [00:00, 17.92it/s]\n",
            "1it [00:00,  8.10it/s]"
          ],
          "name": "stderr"
        },
        {
          "output_type": "stream",
          "text": [
            "Epoch: 101, Validation Accuracy: 0.25\n",
            "Epoch: 101, Validation loss: 2.98\n",
            "Epoch 101, lr 1.9073486328125e-08\n"
          ],
          "name": "stdout"
        },
        {
          "output_type": "stream",
          "text": [
            "11it [00:01,  8.23it/s]"
          ],
          "name": "stderr"
        },
        {
          "output_type": "stream",
          "text": [
            "Epoch: 103\tAvg-Loss: 0.0726\tAccuract: 0.8187\n"
          ],
          "name": "stdout"
        },
        {
          "output_type": "stream",
          "text": [
            "21it [00:02,  8.31it/s]\n",
            "0it [00:00, ?it/s]"
          ],
          "name": "stderr"
        },
        {
          "output_type": "stream",
          "text": [
            "Epoch: 103\tAvg-Loss: 0.1589\tAccuract: 0.7797\n"
          ],
          "name": "stdout"
        },
        {
          "output_type": "stream",
          "text": [
            "9it [00:00, 17.92it/s]\n",
            "1it [00:00,  8.34it/s]"
          ],
          "name": "stderr"
        },
        {
          "output_type": "stream",
          "text": [
            "Epoch: 102, Validation Accuracy: 0.24\n",
            "Epoch: 102, Validation loss: 3.10\n",
            "Epoch 102, lr 1.9073486328125e-08\n"
          ],
          "name": "stdout"
        },
        {
          "output_type": "stream",
          "text": [
            "11it [00:01,  8.09it/s]"
          ],
          "name": "stderr"
        },
        {
          "output_type": "stream",
          "text": [
            "Epoch: 104\tAvg-Loss: 0.0824\tAccuract: 0.7594\n"
          ],
          "name": "stdout"
        },
        {
          "output_type": "stream",
          "text": [
            "21it [00:02,  8.24it/s]\n",
            "0it [00:00, ?it/s]"
          ],
          "name": "stderr"
        },
        {
          "output_type": "stream",
          "text": [
            "Epoch: 104\tAvg-Loss: 0.1585\tAccuract: 0.7641\n"
          ],
          "name": "stdout"
        },
        {
          "output_type": "stream",
          "text": [
            "9it [00:00, 17.77it/s]\n",
            "1it [00:00,  8.03it/s]"
          ],
          "name": "stderr"
        },
        {
          "output_type": "stream",
          "text": [
            "Epoch: 103, Validation Accuracy: 0.24\n",
            "Epoch: 103, Validation loss: 3.06\n",
            "Epoch 103, lr 1.9073486328125e-08\n"
          ],
          "name": "stdout"
        },
        {
          "output_type": "stream",
          "text": [
            "11it [00:01,  8.17it/s]"
          ],
          "name": "stderr"
        },
        {
          "output_type": "stream",
          "text": [
            "Epoch: 105\tAvg-Loss: 0.0821\tAccuract: 0.7719\n"
          ],
          "name": "stdout"
        },
        {
          "output_type": "stream",
          "text": [
            "21it [00:02,  8.29it/s]\n",
            "0it [00:00, ?it/s]"
          ],
          "name": "stderr"
        },
        {
          "output_type": "stream",
          "text": [
            "Epoch: 105\tAvg-Loss: 0.1580\tAccuract: 0.7766\n"
          ],
          "name": "stdout"
        },
        {
          "output_type": "stream",
          "text": [
            "9it [00:00, 17.91it/s]\n",
            "1it [00:00,  8.19it/s]"
          ],
          "name": "stderr"
        },
        {
          "output_type": "stream",
          "text": [
            "Epoch: 104, Validation Accuracy: 0.25\n",
            "Epoch: 104, Validation loss: 3.02\n",
            "Epoch 104, lr 1.9073486328125e-08\n"
          ],
          "name": "stdout"
        },
        {
          "output_type": "stream",
          "text": [
            "11it [00:01,  8.12it/s]"
          ],
          "name": "stderr"
        },
        {
          "output_type": "stream",
          "text": [
            "Epoch: 106\tAvg-Loss: 0.0797\tAccuract: 0.7656\n"
          ],
          "name": "stdout"
        },
        {
          "output_type": "stream",
          "text": [
            "21it [00:02,  8.29it/s]\n",
            "0it [00:00, ?it/s]"
          ],
          "name": "stderr"
        },
        {
          "output_type": "stream",
          "text": [
            "Epoch: 106\tAvg-Loss: 0.1560\tAccuract: 0.7719\n"
          ],
          "name": "stdout"
        },
        {
          "output_type": "stream",
          "text": [
            "9it [00:00, 17.83it/s]\n",
            "1it [00:00,  8.36it/s]"
          ],
          "name": "stderr"
        },
        {
          "output_type": "stream",
          "text": [
            "Epoch: 105, Validation Accuracy: 0.23\n",
            "Epoch: 105, Validation loss: 2.91\n",
            "Epoch 105, lr 1.9073486328125e-08\n"
          ],
          "name": "stdout"
        },
        {
          "output_type": "stream",
          "text": [
            "11it [00:01,  8.20it/s]"
          ],
          "name": "stderr"
        },
        {
          "output_type": "stream",
          "text": [
            "Epoch: 107\tAvg-Loss: 0.0858\tAccuract: 0.7281\n"
          ],
          "name": "stdout"
        },
        {
          "output_type": "stream",
          "text": [
            "21it [00:02,  8.33it/s]\n",
            "0it [00:00, ?it/s]"
          ],
          "name": "stderr"
        },
        {
          "output_type": "stream",
          "text": [
            "Epoch: 107\tAvg-Loss: 0.1654\tAccuract: 0.7469\n"
          ],
          "name": "stdout"
        },
        {
          "output_type": "stream",
          "text": [
            "9it [00:00, 17.88it/s]\n",
            "1it [00:00,  8.15it/s]"
          ],
          "name": "stderr"
        },
        {
          "output_type": "stream",
          "text": [
            "Epoch: 106, Validation Accuracy: 0.25\n",
            "Epoch: 106, Validation loss: 3.09\n",
            "Epoch 106, lr 1.9073486328125e-08\n"
          ],
          "name": "stdout"
        },
        {
          "output_type": "stream",
          "text": [
            "11it [00:01,  8.06it/s]"
          ],
          "name": "stderr"
        },
        {
          "output_type": "stream",
          "text": [
            "Epoch: 108\tAvg-Loss: 0.0799\tAccuract: 0.7719\n"
          ],
          "name": "stdout"
        },
        {
          "output_type": "stream",
          "text": [
            "21it [00:02,  8.21it/s]\n",
            "0it [00:00, ?it/s]"
          ],
          "name": "stderr"
        },
        {
          "output_type": "stream",
          "text": [
            "Epoch: 108\tAvg-Loss: 0.1570\tAccuract: 0.7688\n"
          ],
          "name": "stdout"
        },
        {
          "output_type": "stream",
          "text": [
            "9it [00:00, 17.89it/s]\n",
            "1it [00:00,  7.94it/s]"
          ],
          "name": "stderr"
        },
        {
          "output_type": "stream",
          "text": [
            "Epoch: 107, Validation Accuracy: 0.26\n",
            "Epoch: 107, Validation loss: 3.08\n",
            "Epoch 107, lr 1.9073486328125e-08\n"
          ],
          "name": "stdout"
        },
        {
          "output_type": "stream",
          "text": [
            "11it [00:01,  8.20it/s]"
          ],
          "name": "stderr"
        },
        {
          "output_type": "stream",
          "text": [
            "Epoch: 109\tAvg-Loss: 0.0755\tAccuract: 0.7781\n"
          ],
          "name": "stdout"
        },
        {
          "output_type": "stream",
          "text": [
            "21it [00:02,  8.31it/s]\n",
            "0it [00:00, ?it/s]"
          ],
          "name": "stderr"
        },
        {
          "output_type": "stream",
          "text": [
            "Epoch: 109\tAvg-Loss: 0.1578\tAccuract: 0.7703\n"
          ],
          "name": "stdout"
        },
        {
          "output_type": "stream",
          "text": [
            "9it [00:00, 17.73it/s]\n",
            "1it [00:00,  8.26it/s]"
          ],
          "name": "stderr"
        },
        {
          "output_type": "stream",
          "text": [
            "Epoch: 108, Validation Accuracy: 0.25\n",
            "Epoch: 108, Validation loss: 3.16\n",
            "Epoch 108, lr 1.9073486328125e-08\n"
          ],
          "name": "stdout"
        },
        {
          "output_type": "stream",
          "text": [
            "11it [00:01,  8.09it/s]"
          ],
          "name": "stderr"
        },
        {
          "output_type": "stream",
          "text": [
            "Epoch: 110\tAvg-Loss: 0.0819\tAccuract: 0.7531\n"
          ],
          "name": "stdout"
        },
        {
          "output_type": "stream",
          "text": [
            "21it [00:02,  8.25it/s]\n",
            "0it [00:00, ?it/s]"
          ],
          "name": "stderr"
        },
        {
          "output_type": "stream",
          "text": [
            "Epoch: 110\tAvg-Loss: 0.1659\tAccuract: 0.7578\n"
          ],
          "name": "stdout"
        },
        {
          "output_type": "stream",
          "text": [
            "9it [00:00, 17.64it/s]\n",
            "1it [00:00,  8.15it/s]"
          ],
          "name": "stderr"
        },
        {
          "output_type": "stream",
          "text": [
            "Epoch: 109, Validation Accuracy: 0.27\n",
            "Epoch: 109, Validation loss: 3.05\n",
            "Epoch 109, lr 1.9073486328125e-08\n"
          ],
          "name": "stdout"
        },
        {
          "output_type": "stream",
          "text": [
            "11it [00:01,  8.18it/s]"
          ],
          "name": "stderr"
        },
        {
          "output_type": "stream",
          "text": [
            "Epoch: 111\tAvg-Loss: 0.0810\tAccuract: 0.7844\n"
          ],
          "name": "stdout"
        },
        {
          "output_type": "stream",
          "text": [
            "21it [00:02,  8.31it/s]\n",
            "0it [00:00, ?it/s]"
          ],
          "name": "stderr"
        },
        {
          "output_type": "stream",
          "text": [
            "Epoch: 111\tAvg-Loss: 0.1620\tAccuract: 0.7844\n"
          ],
          "name": "stdout"
        },
        {
          "output_type": "stream",
          "text": [
            "9it [00:00, 17.78it/s]\n",
            "1it [00:00,  8.07it/s]"
          ],
          "name": "stderr"
        },
        {
          "output_type": "stream",
          "text": [
            "Epoch: 110, Validation Accuracy: 0.24\n",
            "Epoch: 110, Validation loss: 3.04\n",
            "Epoch 110, lr 1.9073486328125e-08\n"
          ],
          "name": "stdout"
        },
        {
          "output_type": "stream",
          "text": [
            "11it [00:01,  8.16it/s]"
          ],
          "name": "stderr"
        },
        {
          "output_type": "stream",
          "text": [
            "Epoch: 112\tAvg-Loss: 0.0811\tAccuract: 0.7375\n"
          ],
          "name": "stdout"
        },
        {
          "output_type": "stream",
          "text": [
            "21it [00:02,  8.26it/s]\n",
            "0it [00:00, ?it/s]"
          ],
          "name": "stderr"
        },
        {
          "output_type": "stream",
          "text": [
            "Epoch: 112\tAvg-Loss: 0.1664\tAccuract: 0.7578\n"
          ],
          "name": "stdout"
        },
        {
          "output_type": "stream",
          "text": [
            "9it [00:00, 17.75it/s]\n",
            "1it [00:00,  7.95it/s]"
          ],
          "name": "stderr"
        },
        {
          "output_type": "stream",
          "text": [
            "Epoch: 111, Validation Accuracy: 0.25\n",
            "Epoch: 111, Validation loss: 3.01\n",
            "Epoch 111, lr 1.9073486328125e-08\n"
          ],
          "name": "stdout"
        },
        {
          "output_type": "stream",
          "text": [
            "11it [00:01,  8.14it/s]"
          ],
          "name": "stderr"
        },
        {
          "output_type": "stream",
          "text": [
            "Epoch: 113\tAvg-Loss: 0.0818\tAccuract: 0.7625\n"
          ],
          "name": "stdout"
        },
        {
          "output_type": "stream",
          "text": [
            "21it [00:02,  8.25it/s]\n",
            "0it [00:00, ?it/s]"
          ],
          "name": "stderr"
        },
        {
          "output_type": "stream",
          "text": [
            "Epoch: 113\tAvg-Loss: 0.1662\tAccuract: 0.7516\n"
          ],
          "name": "stdout"
        },
        {
          "output_type": "stream",
          "text": [
            "9it [00:00, 17.88it/s]\n",
            "1it [00:00,  8.21it/s]"
          ],
          "name": "stderr"
        },
        {
          "output_type": "stream",
          "text": [
            "Epoch: 112, Validation Accuracy: 0.26\n",
            "Epoch: 112, Validation loss: 3.04\n",
            "Epoch 112, lr 1.9073486328125e-08\n"
          ],
          "name": "stdout"
        },
        {
          "output_type": "stream",
          "text": [
            "11it [00:01,  8.12it/s]"
          ],
          "name": "stderr"
        },
        {
          "output_type": "stream",
          "text": [
            "Epoch: 114\tAvg-Loss: 0.0815\tAccuract: 0.7438\n"
          ],
          "name": "stdout"
        },
        {
          "output_type": "stream",
          "text": [
            "21it [00:02,  8.25it/s]\n",
            "0it [00:00, ?it/s]"
          ],
          "name": "stderr"
        },
        {
          "output_type": "stream",
          "text": [
            "Epoch: 114\tAvg-Loss: 0.1606\tAccuract: 0.7500\n"
          ],
          "name": "stdout"
        },
        {
          "output_type": "stream",
          "text": [
            "9it [00:00, 17.52it/s]\n",
            "1it [00:00,  8.09it/s]"
          ],
          "name": "stderr"
        },
        {
          "output_type": "stream",
          "text": [
            "Epoch: 113, Validation Accuracy: 0.23\n",
            "Epoch: 113, Validation loss: 3.07\n",
            "Epoch 113, lr 1.9073486328125e-08\n"
          ],
          "name": "stdout"
        },
        {
          "output_type": "stream",
          "text": [
            "11it [00:01,  8.13it/s]"
          ],
          "name": "stderr"
        },
        {
          "output_type": "stream",
          "text": [
            "Epoch: 115\tAvg-Loss: 0.0726\tAccuract: 0.7937\n"
          ],
          "name": "stdout"
        },
        {
          "output_type": "stream",
          "text": [
            "21it [00:02,  8.25it/s]\n",
            "0it [00:00, ?it/s]"
          ],
          "name": "stderr"
        },
        {
          "output_type": "stream",
          "text": [
            "Epoch: 115\tAvg-Loss: 0.1535\tAccuract: 0.7766\n"
          ],
          "name": "stdout"
        },
        {
          "output_type": "stream",
          "text": [
            "9it [00:00, 17.82it/s]\n",
            "1it [00:00,  8.25it/s]"
          ],
          "name": "stderr"
        },
        {
          "output_type": "stream",
          "text": [
            "Epoch: 114, Validation Accuracy: 0.24\n",
            "Epoch: 114, Validation loss: 2.97\n",
            "Epoch 114, lr 1.9073486328125e-08\n"
          ],
          "name": "stdout"
        },
        {
          "output_type": "stream",
          "text": [
            "11it [00:01,  8.16it/s]"
          ],
          "name": "stderr"
        },
        {
          "output_type": "stream",
          "text": [
            "Epoch: 116\tAvg-Loss: 0.0831\tAccuract: 0.7594\n"
          ],
          "name": "stdout"
        },
        {
          "output_type": "stream",
          "text": [
            "21it [00:02,  8.26it/s]\n",
            "0it [00:00, ?it/s]"
          ],
          "name": "stderr"
        },
        {
          "output_type": "stream",
          "text": [
            "Epoch: 116\tAvg-Loss: 0.1604\tAccuract: 0.7656\n"
          ],
          "name": "stdout"
        },
        {
          "output_type": "stream",
          "text": [
            "9it [00:00, 17.77it/s]\n",
            "1it [00:00,  8.32it/s]"
          ],
          "name": "stderr"
        },
        {
          "output_type": "stream",
          "text": [
            "Epoch: 115, Validation Accuracy: 0.25\n",
            "Epoch: 115, Validation loss: 3.08\n",
            "Epoch 115, lr 1.9073486328125e-08\n"
          ],
          "name": "stdout"
        },
        {
          "output_type": "stream",
          "text": [
            "11it [00:01,  8.13it/s]"
          ],
          "name": "stderr"
        },
        {
          "output_type": "stream",
          "text": [
            "Epoch: 117\tAvg-Loss: 0.0808\tAccuract: 0.7500\n"
          ],
          "name": "stdout"
        },
        {
          "output_type": "stream",
          "text": [
            "21it [00:02,  8.30it/s]\n",
            "0it [00:00, ?it/s]"
          ],
          "name": "stderr"
        },
        {
          "output_type": "stream",
          "text": [
            "Epoch: 117\tAvg-Loss: 0.1601\tAccuract: 0.7531\n"
          ],
          "name": "stdout"
        },
        {
          "output_type": "stream",
          "text": [
            "9it [00:00, 17.66it/s]\n",
            "1it [00:00,  7.92it/s]"
          ],
          "name": "stderr"
        },
        {
          "output_type": "stream",
          "text": [
            "Epoch: 116, Validation Accuracy: 0.25\n",
            "Epoch: 116, Validation loss: 3.01\n",
            "Epoch 116, lr 1.9073486328125e-08\n"
          ],
          "name": "stdout"
        },
        {
          "output_type": "stream",
          "text": [
            "11it [00:01,  8.13it/s]"
          ],
          "name": "stderr"
        },
        {
          "output_type": "stream",
          "text": [
            "Epoch: 118\tAvg-Loss: 0.0874\tAccuract: 0.7531\n"
          ],
          "name": "stdout"
        },
        {
          "output_type": "stream",
          "text": [
            "21it [00:02,  8.25it/s]\n",
            "0it [00:00, ?it/s]"
          ],
          "name": "stderr"
        },
        {
          "output_type": "stream",
          "text": [
            "Epoch: 118\tAvg-Loss: 0.1606\tAccuract: 0.7797\n"
          ],
          "name": "stdout"
        },
        {
          "output_type": "stream",
          "text": [
            "9it [00:00, 17.13it/s]\n",
            "1it [00:00,  8.04it/s]"
          ],
          "name": "stderr"
        },
        {
          "output_type": "stream",
          "text": [
            "Epoch: 117, Validation Accuracy: 0.24\n",
            "Epoch: 117, Validation loss: 3.13\n",
            "Epoch 117, lr 1.9073486328125e-08\n"
          ],
          "name": "stdout"
        },
        {
          "output_type": "stream",
          "text": [
            "11it [00:01,  8.11it/s]"
          ],
          "name": "stderr"
        },
        {
          "output_type": "stream",
          "text": [
            "Epoch: 119\tAvg-Loss: 0.0827\tAccuract: 0.7406\n"
          ],
          "name": "stdout"
        },
        {
          "output_type": "stream",
          "text": [
            "21it [00:02,  8.24it/s]\n",
            "0it [00:00, ?it/s]"
          ],
          "name": "stderr"
        },
        {
          "output_type": "stream",
          "text": [
            "Epoch: 119\tAvg-Loss: 0.1627\tAccuract: 0.7594\n"
          ],
          "name": "stdout"
        },
        {
          "output_type": "stream",
          "text": [
            "9it [00:00, 17.79it/s]\n",
            "1it [00:00,  8.02it/s]"
          ],
          "name": "stderr"
        },
        {
          "output_type": "stream",
          "text": [
            "Epoch: 118, Validation Accuracy: 0.22\n",
            "Epoch: 118, Validation loss: 3.08\n",
            "Epoch 118, lr 1.9073486328125e-08\n"
          ],
          "name": "stdout"
        },
        {
          "output_type": "stream",
          "text": [
            "11it [00:01,  8.22it/s]"
          ],
          "name": "stderr"
        },
        {
          "output_type": "stream",
          "text": [
            "Epoch: 120\tAvg-Loss: 0.0829\tAccuract: 0.7469\n"
          ],
          "name": "stdout"
        },
        {
          "output_type": "stream",
          "text": [
            "21it [00:02,  8.29it/s]\n",
            "0it [00:00, ?it/s]"
          ],
          "name": "stderr"
        },
        {
          "output_type": "stream",
          "text": [
            "Epoch: 120\tAvg-Loss: 0.1601\tAccuract: 0.7578\n"
          ],
          "name": "stdout"
        },
        {
          "output_type": "stream",
          "text": [
            "9it [00:00, 17.92it/s]"
          ],
          "name": "stderr"
        },
        {
          "output_type": "stream",
          "text": [
            "Epoch: 119, Validation Accuracy: 0.22\n",
            "Epoch: 119, Validation loss: 3.09\n",
            "Epoch 119, lr 1.9073486328125e-08\n"
          ],
          "name": "stdout"
        },
        {
          "output_type": "stream",
          "text": [
            "\n"
          ],
          "name": "stderr"
        }
      ]
    }
  ]
}